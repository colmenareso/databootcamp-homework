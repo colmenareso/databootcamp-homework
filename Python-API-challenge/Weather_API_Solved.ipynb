{
 "cells": [
  {
   "cell_type": "code",
   "execution_count": 2,
   "metadata": {},
   "outputs": [],
   "source": [
    "# Dependencies and Setup\n",
    "import matplotlib.pyplot as plt\n",
    "import pandas as pd\n",
    "import numpy as np\n",
    "import requests\n",
    "import time\n",
    "import openweathermapy.core as owm\n",
    "from urllib.error import HTTPError\n",
    "\n",
    "# Import API key\n",
    "from api_keys import api_key\n",
    "\n",
    "# Incorporated citipy to determine city based on latitude and longitude\n",
    "from citipy import citipy\n",
    "\n",
    "# Output File (CSV)\n",
    "output_data_file = \"output_data/cities.csv\"\n",
    "\n",
    "# Range of latitudes and longitudes\n",
    "lat_range = (-90, 90)\n",
    "lng_range = (-180, 180)"
   ]
  },
  {
   "cell_type": "code",
   "execution_count": null,
   "metadata": {},
   "outputs": [],
   "source": [
    "# List for holding lat_lngs and cities\n",
    "lat_lngs = []\n",
    "cities = []\n",
    "\n",
    "# Create a set of random lat and lng combinations\n",
    "lats = np.random.uniform(low=-90.000, high=90.000, size=1500)\n",
    "lngs = np.random.uniform(low=-180.000, high=180.000, size=1500)\n",
    "lat_lngs = zip(lats, lngs)\n",
    "\n",
    "# Identify nearest city for each lat, lng combination\n",
    "for lat_lng in lat_lngs:\n",
    "    city = citipy.nearest_city(lat_lng[0], lat_lng[1]).city_name\n",
    "    \n",
    "    # If the city is unique, then add it to a our cities list\n",
    "    if city not in cities:\n",
    "        cities.append(city)\n",
    "\n",
    "# Print the city count to confirm sufficient count\n",
    "len(cities)"
   ]
  },
  {
   "cell_type": "code",
   "execution_count": null,
   "metadata": {},
   "outputs": [],
   "source": [
    "cities"
   ]
  },
  {
   "cell_type": "code",
   "execution_count": null,
   "metadata": {},
   "outputs": [],
   "source": [
    "# Generate a csv with the list of cities selected\n",
    "\n",
    "cities_df = pd.DataFrame({\n",
    "    \"City\": cities\n",
    "\n",
    "})\n",
    "cities_df\n",
    "\n",
    "#Export file as a CSV, without the Pandas index, but with the header\n",
    "cities_df.to_csv(\"cities.csv\", index=False, header=True)"
   ]
  },
  {
   "cell_type": "code",
   "execution_count": 2,
   "metadata": {},
   "outputs": [],
   "source": [
    "# Create a settings dictionary with your API key and preferred units\n",
    "settings = {\"units\": \"imperial\", \"appid\": api_key}"
   ]
  },
  {
   "cell_type": "code",
   "execution_count": 3,
   "metadata": {},
   "outputs": [],
   "source": [
    "# Read cities csv\n",
    "cities_df = pd.read_csv(\"cities.csv\")"
   ]
  },
  {
   "cell_type": "code",
   "execution_count": 4,
   "metadata": {},
   "outputs": [],
   "source": [
    "# Split city list by batch of 50 cities by batch: Batch 1\n",
    "\n",
    "cities50_df = cities_df.iloc[0:50,:]"
   ]
  },
  {
   "cell_type": "code",
   "execution_count": 5,
   "metadata": {},
   "outputs": [
    {
     "name": "stdout",
     "output_type": "stream",
     "text": [
      "city does not exist\n",
      "city does not exist\n",
      "city does not exist\n",
      "city does not exist\n",
      "city does not exist\n",
      "city does not exist\n",
      "city does not exist\n",
      "city does not exist\n"
     ]
    }
   ],
   "source": [
    "# Get data for first batch of cities\n",
    "\n",
    "\n",
    "weather_data = []\n",
    "for index, row in cities50_df.iterrows():\n",
    "    \n",
    "    try:\n",
    "        if len(owm.get_current(row[0], **settings))> 0:\n",
    "            weather_data.append(owm.get_current(row[0], **settings))\n",
    "        else:\n",
    "            continue\n",
    "            \n",
    "    except HTTPError as err:\n",
    "        if (err.code == 404 or err.code == 400):\n",
    "            print('city does not exist')\n",
    "    "
   ]
  },
  {
   "cell_type": "code",
   "execution_count": 7,
   "metadata": {},
   "outputs": [
    {
     "data": {
      "text/plain": [
       "42"
      ]
     },
     "execution_count": 7,
     "metadata": {},
     "output_type": "execute_result"
    }
   ],
   "source": [
    "len(weather_data)"
   ]
  },
  {
   "cell_type": "code",
   "execution_count": 8,
   "metadata": {},
   "outputs": [],
   "source": [
    "# Split city list by batch of 50 cities by batch: Batch 2\n",
    "\n",
    "cities100_df = cities_df.iloc[50:100,:]"
   ]
  },
  {
   "cell_type": "code",
   "execution_count": 9,
   "metadata": {},
   "outputs": [
    {
     "name": "stdout",
     "output_type": "stream",
     "text": [
      "city does not exist\n",
      "city does not exist\n",
      "city does not exist\n",
      "city does not exist\n",
      "city does not exist\n",
      "city does not exist\n",
      "city does not exist\n",
      "city does not exist\n"
     ]
    }
   ],
   "source": [
    "# Get data for second batch of cities\n",
    "\n",
    "for index, row in cities100_df.iterrows():\n",
    "    \n",
    "    try:\n",
    "        if len(owm.get_current(row[0], **settings))> 0:\n",
    "            weather_data.append(owm.get_current(row[0], **settings))\n",
    "        else:\n",
    "            continue\n",
    "            \n",
    "    except HTTPError as err:\n",
    "        if (err.code == 404 or err.code == 400):\n",
    "            print('city does not exist')"
   ]
  },
  {
   "cell_type": "code",
   "execution_count": 10,
   "metadata": {},
   "outputs": [
    {
     "data": {
      "text/plain": [
       "84"
      ]
     },
     "execution_count": 10,
     "metadata": {},
     "output_type": "execute_result"
    }
   ],
   "source": [
    "len(weather_data)"
   ]
  },
  {
   "cell_type": "code",
   "execution_count": 11,
   "metadata": {},
   "outputs": [],
   "source": [
    "# Split city list by batch of 50 cities by batch: Batch 3\n",
    "\n",
    "cities150_df = cities_df.iloc[100:150,:]"
   ]
  },
  {
   "cell_type": "code",
   "execution_count": 12,
   "metadata": {},
   "outputs": [
    {
     "name": "stdout",
     "output_type": "stream",
     "text": [
      "city does not exist\n",
      "city does not exist\n",
      "city does not exist\n"
     ]
    }
   ],
   "source": [
    "# Get data for third batch of cities\n",
    "\n",
    "for index, row in cities150_df.iterrows():\n",
    "    \n",
    "    try:\n",
    "        if len(owm.get_current(row[0], **settings))> 0:\n",
    "            weather_data.append(owm.get_current(row[0], **settings))\n",
    "        else:\n",
    "            continue\n",
    "            \n",
    "    except HTTPError as err:\n",
    "        if (err.code == 404 or err.code == 400):\n",
    "            print('city does not exist')"
   ]
  },
  {
   "cell_type": "code",
   "execution_count": 13,
   "metadata": {},
   "outputs": [
    {
     "data": {
      "text/plain": [
       "131"
      ]
     },
     "execution_count": 13,
     "metadata": {},
     "output_type": "execute_result"
    }
   ],
   "source": [
    "len(weather_data)"
   ]
  },
  {
   "cell_type": "code",
   "execution_count": 14,
   "metadata": {},
   "outputs": [],
   "source": [
    "# Split city list by batch of 50 cities by batch: Batch 4\n",
    "\n",
    "cities200_df = cities_df.iloc[150:200,:]"
   ]
  },
  {
   "cell_type": "code",
   "execution_count": 15,
   "metadata": {},
   "outputs": [
    {
     "name": "stdout",
     "output_type": "stream",
     "text": [
      "city does not exist\n",
      "city does not exist\n",
      "city does not exist\n",
      "city does not exist\n",
      "city does not exist\n",
      "city does not exist\n"
     ]
    }
   ],
   "source": [
    "# Get data for fourth batch of cities\n",
    "\n",
    "for index, row in cities200_df.iterrows():\n",
    "    \n",
    "    try:\n",
    "        if len(owm.get_current(row[0], **settings))> 0:\n",
    "            weather_data.append(owm.get_current(row[0], **settings))\n",
    "        else:\n",
    "            continue\n",
    "            \n",
    "    except HTTPError as err:\n",
    "        if (err.code == 404 or err.code == 400):\n",
    "            print('city does not exist')"
   ]
  },
  {
   "cell_type": "code",
   "execution_count": 16,
   "metadata": {},
   "outputs": [
    {
     "data": {
      "text/plain": [
       "175"
      ]
     },
     "execution_count": 16,
     "metadata": {},
     "output_type": "execute_result"
    }
   ],
   "source": [
    "len(weather_data)"
   ]
  },
  {
   "cell_type": "code",
   "execution_count": 17,
   "metadata": {},
   "outputs": [],
   "source": [
    "# Split city list by batch of 50 cities by batch: Batch 5\n",
    "\n",
    "cities250_df = cities_df.iloc[200:250,:]"
   ]
  },
  {
   "cell_type": "code",
   "execution_count": 18,
   "metadata": {},
   "outputs": [
    {
     "name": "stdout",
     "output_type": "stream",
     "text": [
      "city does not exist\n",
      "city does not exist\n",
      "city does not exist\n"
     ]
    }
   ],
   "source": [
    "# Get data for fifth batch of cities\n",
    "\n",
    "for index, row in cities250_df.iterrows():\n",
    "    \n",
    "    try:\n",
    "        if len(owm.get_current(row[0], **settings))> 0:\n",
    "            weather_data.append(owm.get_current(row[0], **settings))\n",
    "        else:\n",
    "            continue\n",
    "            \n",
    "    except HTTPError as err:\n",
    "        if (err.code == 404 or err.code == 400):\n",
    "            print('city does not exist')"
   ]
  },
  {
   "cell_type": "code",
   "execution_count": 19,
   "metadata": {},
   "outputs": [
    {
     "data": {
      "text/plain": [
       "222"
      ]
     },
     "execution_count": 19,
     "metadata": {},
     "output_type": "execute_result"
    }
   ],
   "source": [
    "len(weather_data)"
   ]
  },
  {
   "cell_type": "code",
   "execution_count": 20,
   "metadata": {},
   "outputs": [],
   "source": [
    "# Split city list by batch of 50 cities by batch: Batch 6\n",
    "\n",
    "cities300_df = cities_df.iloc[250:300,:]"
   ]
  },
  {
   "cell_type": "code",
   "execution_count": 21,
   "metadata": {},
   "outputs": [
    {
     "name": "stdout",
     "output_type": "stream",
     "text": [
      "city does not exist\n",
      "city does not exist\n",
      "city does not exist\n",
      "city does not exist\n",
      "city does not exist\n",
      "city does not exist\n",
      "city does not exist\n"
     ]
    }
   ],
   "source": [
    "# Get data for sixth batch of cities\n",
    "\n",
    "for index, row in cities300_df.iterrows():\n",
    "    \n",
    "    try:\n",
    "        if len(owm.get_current(row[0], **settings))> 0:\n",
    "            weather_data.append(owm.get_current(row[0], **settings))\n",
    "        else:\n",
    "            continue\n",
    "            \n",
    "    except HTTPError as err:\n",
    "        if (err.code == 404 or err.code == 400):\n",
    "            print('city does not exist')"
   ]
  },
  {
   "cell_type": "code",
   "execution_count": 22,
   "metadata": {},
   "outputs": [
    {
     "data": {
      "text/plain": [
       "265"
      ]
     },
     "execution_count": 22,
     "metadata": {},
     "output_type": "execute_result"
    }
   ],
   "source": [
    "len(weather_data)"
   ]
  },
  {
   "cell_type": "code",
   "execution_count": 23,
   "metadata": {},
   "outputs": [],
   "source": [
    "# Split city list by batch of 50 cities by batch: Batch 7\n",
    "\n",
    "cities350_df = cities_df.iloc[300:350,:]"
   ]
  },
  {
   "cell_type": "code",
   "execution_count": 24,
   "metadata": {},
   "outputs": [],
   "source": [
    "# Get data for seventh batch of cities\n",
    "\n",
    "for index, row in cities350_df.iterrows():\n",
    "    \n",
    "    try:\n",
    "        if len(owm.get_current(row[0], **settings))> 0:\n",
    "            weather_data.append(owm.get_current(row[0], **settings))\n",
    "        else:\n",
    "            continue\n",
    "            \n",
    "    except HTTPError as err:\n",
    "        if (err.code == 404 or err.code == 400):\n",
    "            print('city does not exist')"
   ]
  },
  {
   "cell_type": "code",
   "execution_count": 25,
   "metadata": {},
   "outputs": [
    {
     "data": {
      "text/plain": [
       "315"
      ]
     },
     "execution_count": 25,
     "metadata": {},
     "output_type": "execute_result"
    }
   ],
   "source": [
    "len(weather_data)"
   ]
  },
  {
   "cell_type": "code",
   "execution_count": 26,
   "metadata": {},
   "outputs": [],
   "source": [
    "# Split city list by batch of 50 cities by batch: Batch 8\n",
    "\n",
    "cities400_df = cities_df.iloc[350:400,:]"
   ]
  },
  {
   "cell_type": "code",
   "execution_count": 27,
   "metadata": {},
   "outputs": [
    {
     "name": "stdout",
     "output_type": "stream",
     "text": [
      "city does not exist\n",
      "city does not exist\n",
      "city does not exist\n",
      "city does not exist\n",
      "city does not exist\n"
     ]
    }
   ],
   "source": [
    "# Get data for eigth batch of cities\n",
    "\n",
    "for index, row in cities400_df.iterrows():\n",
    "    \n",
    "    try:\n",
    "        if len(owm.get_current(row[0], **settings))> 0:\n",
    "            weather_data.append(owm.get_current(row[0], **settings))\n",
    "        else:\n",
    "            continue\n",
    "            \n",
    "    except HTTPError as err:\n",
    "        if (err.code == 404 or err.code == 400):\n",
    "            print('city does not exist')"
   ]
  },
  {
   "cell_type": "code",
   "execution_count": 28,
   "metadata": {},
   "outputs": [
    {
     "data": {
      "text/plain": [
       "360"
      ]
     },
     "execution_count": 28,
     "metadata": {},
     "output_type": "execute_result"
    }
   ],
   "source": [
    "len(weather_data)"
   ]
  },
  {
   "cell_type": "code",
   "execution_count": 29,
   "metadata": {},
   "outputs": [],
   "source": [
    "# Split city list by batch of 50 cities by batch: Batch 9\n",
    "\n",
    "cities450_df = cities_df.iloc[400:450,:]"
   ]
  },
  {
   "cell_type": "code",
   "execution_count": 30,
   "metadata": {},
   "outputs": [
    {
     "name": "stdout",
     "output_type": "stream",
     "text": [
      "city does not exist\n",
      "city does not exist\n",
      "city does not exist\n",
      "city does not exist\n",
      "city does not exist\n"
     ]
    }
   ],
   "source": [
    "# Get data for ninth batch of cities\n",
    "\n",
    "for index, row in cities450_df.iterrows():\n",
    "    \n",
    "    try:\n",
    "        if len(owm.get_current(row[0], **settings))> 0:\n",
    "            weather_data.append(owm.get_current(row[0], **settings))\n",
    "        else:\n",
    "            continue\n",
    "            \n",
    "    except HTTPError as err:\n",
    "        if (err.code == 404 or err.code == 400):\n",
    "            print('city does not exist')"
   ]
  },
  {
   "cell_type": "code",
   "execution_count": 31,
   "metadata": {},
   "outputs": [
    {
     "data": {
      "text/plain": [
       "405"
      ]
     },
     "execution_count": 31,
     "metadata": {},
     "output_type": "execute_result"
    }
   ],
   "source": [
    "len(weather_data)"
   ]
  },
  {
   "cell_type": "code",
   "execution_count": 32,
   "metadata": {},
   "outputs": [],
   "source": [
    "# Split city list by batch of 50 cities by batch: Batch 10\n",
    "\n",
    "cities500_df = cities_df.iloc[450:500,:]"
   ]
  },
  {
   "cell_type": "code",
   "execution_count": 33,
   "metadata": {},
   "outputs": [
    {
     "name": "stdout",
     "output_type": "stream",
     "text": [
      "city does not exist\n",
      "city does not exist\n",
      "city does not exist\n",
      "city does not exist\n",
      "city does not exist\n",
      "city does not exist\n",
      "city does not exist\n"
     ]
    }
   ],
   "source": [
    "# Get data for tenth batch of cities\n",
    "\n",
    "for index, row in cities500_df.iterrows():\n",
    "    \n",
    "    try:\n",
    "        if len(owm.get_current(row[0], **settings))> 0:\n",
    "            weather_data.append(owm.get_current(row[0], **settings))\n",
    "        else:\n",
    "            continue\n",
    "            \n",
    "    except HTTPError as err:\n",
    "        if (err.code == 404 or err.code == 400):\n",
    "            print('city does not exist')"
   ]
  },
  {
   "cell_type": "code",
   "execution_count": 34,
   "metadata": {},
   "outputs": [
    {
     "data": {
      "text/plain": [
       "448"
      ]
     },
     "execution_count": 34,
     "metadata": {},
     "output_type": "execute_result"
    }
   ],
   "source": [
    "len(weather_data)"
   ]
  },
  {
   "cell_type": "code",
   "execution_count": 35,
   "metadata": {},
   "outputs": [],
   "source": [
    "# Split city list by batch of 50 cities by batch: Batch 11\n",
    "\n",
    "cities550_df = cities_df.iloc[500:550,:]"
   ]
  },
  {
   "cell_type": "code",
   "execution_count": 36,
   "metadata": {},
   "outputs": [
    {
     "name": "stdout",
     "output_type": "stream",
     "text": [
      "city does not exist\n",
      "city does not exist\n",
      "city does not exist\n",
      "city does not exist\n",
      "city does not exist\n",
      "city does not exist\n",
      "city does not exist\n"
     ]
    }
   ],
   "source": [
    "# Get data for eleventh batch of cities\n",
    "\n",
    "for index, row in cities550_df.iterrows():\n",
    "    \n",
    "    try:\n",
    "        if len(owm.get_current(row[0], **settings))> 0:\n",
    "            weather_data.append(owm.get_current(row[0], **settings))\n",
    "        else:\n",
    "            continue\n",
    "            \n",
    "    except HTTPError as err:\n",
    "        if (err.code == 404 or err.code == 400):\n",
    "            print('city does not exist')"
   ]
  },
  {
   "cell_type": "code",
   "execution_count": 37,
   "metadata": {},
   "outputs": [
    {
     "data": {
      "text/plain": [
       "491"
      ]
     },
     "execution_count": 37,
     "metadata": {},
     "output_type": "execute_result"
    }
   ],
   "source": [
    "len(weather_data)"
   ]
  },
  {
   "cell_type": "code",
   "execution_count": 38,
   "metadata": {},
   "outputs": [],
   "source": [
    "# Split city list by batch of 50 cities by batch: Batch 12\n",
    "\n",
    "cities600_df = cities_df.iloc[550:600,:]"
   ]
  },
  {
   "cell_type": "code",
   "execution_count": 39,
   "metadata": {},
   "outputs": [
    {
     "name": "stdout",
     "output_type": "stream",
     "text": [
      "city does not exist\n",
      "city does not exist\n",
      "city does not exist\n",
      "city does not exist\n",
      "city does not exist\n",
      "city does not exist\n"
     ]
    }
   ],
   "source": [
    "# Get data for twelveth batch of cities\n",
    "\n",
    "for index, row in cities600_df.iterrows():\n",
    "    \n",
    "    try:\n",
    "        if len(owm.get_current(row[0], **settings))> 0:\n",
    "            weather_data.append(owm.get_current(row[0], **settings))\n",
    "        else:\n",
    "            continue\n",
    "            \n",
    "    except HTTPError as err:\n",
    "        if (err.code == 404 or err.code == 400):\n",
    "            print('city does not exist')"
   ]
  },
  {
   "cell_type": "code",
   "execution_count": 40,
   "metadata": {},
   "outputs": [
    {
     "data": {
      "text/plain": [
       "535"
      ]
     },
     "execution_count": 40,
     "metadata": {},
     "output_type": "execute_result"
    }
   ],
   "source": [
    "len(weather_data)"
   ]
  },
  {
   "cell_type": "code",
   "execution_count": 41,
   "metadata": {},
   "outputs": [],
   "source": [
    "# Split city list by batch of 50 cities by batch: Batch 13\n",
    "\n",
    "cities618_df = cities_df.iloc[600:618,:]"
   ]
  },
  {
   "cell_type": "code",
   "execution_count": 42,
   "metadata": {},
   "outputs": [
    {
     "name": "stdout",
     "output_type": "stream",
     "text": [
      "city does not exist\n"
     ]
    }
   ],
   "source": [
    "# Get data for thirteenth batch of cities\n",
    "\n",
    "for index, row in cities618_df.iterrows():\n",
    "    \n",
    "    try:\n",
    "        if len(owm.get_current(row[0], **settings))> 0:\n",
    "            weather_data.append(owm.get_current(row[0], **settings))\n",
    "        else:\n",
    "            continue\n",
    "            \n",
    "    except HTTPError as err:\n",
    "        if (err.code == 404 or err.code == 400):\n",
    "            print('city does not exist')"
   ]
  },
  {
   "cell_type": "code",
   "execution_count": 43,
   "metadata": {},
   "outputs": [
    {
     "data": {
      "text/plain": [
       "552"
      ]
     },
     "execution_count": 43,
     "metadata": {},
     "output_type": "execute_result"
    }
   ],
   "source": [
    "len(weather_data)"
   ]
  },
  {
   "cell_type": "code",
   "execution_count": 44,
   "metadata": {},
   "outputs": [
    {
     "data": {
      "text/plain": [
       "{'coord': {'lon': 26.89, 'lat': -33.59},\n",
       " 'weather': [{'id': 803,\n",
       "   'main': 'Clouds',\n",
       "   'description': 'broken clouds',\n",
       "   'icon': '04d'}],\n",
       " 'base': 'stations',\n",
       " 'main': {'temp': 71.01,\n",
       "  'feels_like': 72.95,\n",
       "  'temp_min': 71.01,\n",
       "  'temp_max': 71.01,\n",
       "  'pressure': 1023,\n",
       "  'humidity': 78},\n",
       " 'wind': {'speed': 5.01, 'deg': 129, 'gust': 8.01},\n",
       " 'clouds': {'all': 81},\n",
       " 'dt': 1577005920,\n",
       " 'sys': {'type': 3,\n",
       "  'id': 2011314,\n",
       "  'country': 'ZA',\n",
       "  'sunrise': 1576983556,\n",
       "  'sunset': 1577035335},\n",
       " 'timezone': 7200,\n",
       " 'id': 964432,\n",
       " 'name': 'Port Alfred',\n",
       " 'cod': 200}"
      ]
     },
     "execution_count": 44,
     "metadata": {},
     "output_type": "execute_result"
    }
   ],
   "source": [
    "weather_data[0]"
   ]
  },
  {
   "cell_type": "code",
   "execution_count": 45,
   "metadata": {},
   "outputs": [],
   "source": [
    "# Create an \"extracts\" object to get the temperature, latitude, and longitude in each city\n",
    "summary = [\"name\",\"coord.lat\", \"coord.lon\", \"main.temp\", \"main.humidity\", \"main.temp_min\", \"main.temp_max\", \n",
    "           \"wind.speed\", \"clouds.all\",\"timezone\"]"
   ]
  },
  {
   "cell_type": "code",
   "execution_count": 46,
   "metadata": {},
   "outputs": [
    {
     "data": {
      "text/html": [
       "<div>\n",
       "<style scoped>\n",
       "    .dataframe tbody tr th:only-of-type {\n",
       "        vertical-align: middle;\n",
       "    }\n",
       "\n",
       "    .dataframe tbody tr th {\n",
       "        vertical-align: top;\n",
       "    }\n",
       "\n",
       "    .dataframe thead th {\n",
       "        text-align: right;\n",
       "    }\n",
       "</style>\n",
       "<table border=\"1\" class=\"dataframe\">\n",
       "  <thead>\n",
       "    <tr style=\"text-align: right;\">\n",
       "      <th></th>\n",
       "      <th>Station</th>\n",
       "      <th>Latitude</th>\n",
       "      <th>Longitude</th>\n",
       "      <th>Temperature</th>\n",
       "      <th>Humidity</th>\n",
       "      <th>Temperature Min</th>\n",
       "      <th>Temperature Max</th>\n",
       "      <th>Wind Speed</th>\n",
       "      <th>Cloudines</th>\n",
       "      <th>Timezone</th>\n",
       "    </tr>\n",
       "  </thead>\n",
       "  <tbody>\n",
       "    <tr>\n",
       "      <th>0</th>\n",
       "      <td>Port Alfred</td>\n",
       "      <td>-33.59</td>\n",
       "      <td>26.89</td>\n",
       "      <td>71.01</td>\n",
       "      <td>78</td>\n",
       "      <td>71.01</td>\n",
       "      <td>71.01</td>\n",
       "      <td>5.01</td>\n",
       "      <td>81</td>\n",
       "      <td>7200</td>\n",
       "    </tr>\n",
       "    <tr>\n",
       "      <th>1</th>\n",
       "      <td>La Palma</td>\n",
       "      <td>5.36</td>\n",
       "      <td>-74.39</td>\n",
       "      <td>66.31</td>\n",
       "      <td>96</td>\n",
       "      <td>66.31</td>\n",
       "      <td>66.31</td>\n",
       "      <td>3.04</td>\n",
       "      <td>45</td>\n",
       "      <td>-18000</td>\n",
       "    </tr>\n",
       "    <tr>\n",
       "      <th>2</th>\n",
       "      <td>Hermanus</td>\n",
       "      <td>-34.42</td>\n",
       "      <td>19.24</td>\n",
       "      <td>77.00</td>\n",
       "      <td>50</td>\n",
       "      <td>77.00</td>\n",
       "      <td>77.00</td>\n",
       "      <td>8.01</td>\n",
       "      <td>0</td>\n",
       "      <td>7200</td>\n",
       "    </tr>\n",
       "    <tr>\n",
       "      <th>3</th>\n",
       "      <td>Coquimbo</td>\n",
       "      <td>-29.95</td>\n",
       "      <td>-71.34</td>\n",
       "      <td>57.20</td>\n",
       "      <td>93</td>\n",
       "      <td>57.20</td>\n",
       "      <td>57.20</td>\n",
       "      <td>6.93</td>\n",
       "      <td>0</td>\n",
       "      <td>-10800</td>\n",
       "    </tr>\n",
       "    <tr>\n",
       "      <th>4</th>\n",
       "      <td>Tuktoyaktuk</td>\n",
       "      <td>69.44</td>\n",
       "      <td>-133.03</td>\n",
       "      <td>-10.23</td>\n",
       "      <td>97</td>\n",
       "      <td>-10.23</td>\n",
       "      <td>-10.23</td>\n",
       "      <td>10.89</td>\n",
       "      <td>100</td>\n",
       "      <td>-25200</td>\n",
       "    </tr>\n",
       "  </tbody>\n",
       "</table>\n",
       "</div>"
      ],
      "text/plain": [
       "       Station  Latitude  Longitude  Temperature  Humidity  Temperature Min  \\\n",
       "0  Port Alfred    -33.59      26.89        71.01        78            71.01   \n",
       "1     La Palma      5.36     -74.39        66.31        96            66.31   \n",
       "2     Hermanus    -34.42      19.24        77.00        50            77.00   \n",
       "3     Coquimbo    -29.95     -71.34        57.20        93            57.20   \n",
       "4  Tuktoyaktuk     69.44    -133.03       -10.23        97           -10.23   \n",
       "\n",
       "   Temperature Max  Wind Speed  Cloudines  Timezone  \n",
       "0            71.01        5.01         81      7200  \n",
       "1            66.31        3.04         45    -18000  \n",
       "2            77.00        8.01          0      7200  \n",
       "3            57.20        6.93          0    -10800  \n",
       "4           -10.23       10.89        100    -25200  "
      ]
     },
     "execution_count": 46,
     "metadata": {},
     "output_type": "execute_result"
    }
   ],
   "source": [
    "\n",
    "# Create a Pandas DataFrame with the results\n",
    "data = [response(*summary) for response in weather_data]\n",
    "column_names = ['Station','Latitude', 'Longitude', 'Temperature', 'Humidity', 'Temperature Min','Temperature Max' , \n",
    "                'Wind Speed', 'Cloudines', \"Timezone\"]\n",
    "\n",
    "weather_data = pd.DataFrame(data, columns=column_names)\n",
    "weather_data.head()"
   ]
  },
  {
   "cell_type": "code",
   "execution_count": 47,
   "metadata": {},
   "outputs": [
    {
     "data": {
      "text/html": [
       "<div>\n",
       "<style scoped>\n",
       "    .dataframe tbody tr th:only-of-type {\n",
       "        vertical-align: middle;\n",
       "    }\n",
       "\n",
       "    .dataframe tbody tr th {\n",
       "        vertical-align: top;\n",
       "    }\n",
       "\n",
       "    .dataframe thead th {\n",
       "        text-align: right;\n",
       "    }\n",
       "</style>\n",
       "<table border=\"1\" class=\"dataframe\">\n",
       "  <thead>\n",
       "    <tr style=\"text-align: right;\">\n",
       "      <th></th>\n",
       "      <th>Station</th>\n",
       "      <th>Latitude</th>\n",
       "      <th>Longitude</th>\n",
       "      <th>Temperature</th>\n",
       "      <th>Humidity</th>\n",
       "      <th>Temperature Min</th>\n",
       "      <th>Temperature Max</th>\n",
       "      <th>Wind Speed</th>\n",
       "      <th>Cloudines</th>\n",
       "      <th>Timezone</th>\n",
       "      <th>Latitude Division</th>\n",
       "    </tr>\n",
       "  </thead>\n",
       "  <tbody>\n",
       "    <tr>\n",
       "      <th>0</th>\n",
       "      <td>Port Alfred</td>\n",
       "      <td>-33.59</td>\n",
       "      <td>26.89</td>\n",
       "      <td>71.01</td>\n",
       "      <td>78</td>\n",
       "      <td>71.01</td>\n",
       "      <td>71.01</td>\n",
       "      <td>5.01</td>\n",
       "      <td>81</td>\n",
       "      <td>7200</td>\n",
       "      <td>Southern_Temperate</td>\n",
       "    </tr>\n",
       "    <tr>\n",
       "      <th>1</th>\n",
       "      <td>La Palma</td>\n",
       "      <td>5.36</td>\n",
       "      <td>-74.39</td>\n",
       "      <td>66.31</td>\n",
       "      <td>96</td>\n",
       "      <td>66.31</td>\n",
       "      <td>66.31</td>\n",
       "      <td>3.04</td>\n",
       "      <td>45</td>\n",
       "      <td>-18000</td>\n",
       "      <td>Tropic_Cancer</td>\n",
       "    </tr>\n",
       "    <tr>\n",
       "      <th>2</th>\n",
       "      <td>Hermanus</td>\n",
       "      <td>-34.42</td>\n",
       "      <td>19.24</td>\n",
       "      <td>77.00</td>\n",
       "      <td>50</td>\n",
       "      <td>77.00</td>\n",
       "      <td>77.00</td>\n",
       "      <td>8.01</td>\n",
       "      <td>0</td>\n",
       "      <td>7200</td>\n",
       "      <td>Southern_Temperate</td>\n",
       "    </tr>\n",
       "    <tr>\n",
       "      <th>3</th>\n",
       "      <td>Coquimbo</td>\n",
       "      <td>-29.95</td>\n",
       "      <td>-71.34</td>\n",
       "      <td>57.20</td>\n",
       "      <td>93</td>\n",
       "      <td>57.20</td>\n",
       "      <td>57.20</td>\n",
       "      <td>6.93</td>\n",
       "      <td>0</td>\n",
       "      <td>-10800</td>\n",
       "      <td>Southern_Temperate</td>\n",
       "    </tr>\n",
       "    <tr>\n",
       "      <th>4</th>\n",
       "      <td>Tuktoyaktuk</td>\n",
       "      <td>69.44</td>\n",
       "      <td>-133.03</td>\n",
       "      <td>-10.23</td>\n",
       "      <td>97</td>\n",
       "      <td>-10.23</td>\n",
       "      <td>-10.23</td>\n",
       "      <td>10.89</td>\n",
       "      <td>100</td>\n",
       "      <td>-25200</td>\n",
       "      <td>Arctic</td>\n",
       "    </tr>\n",
       "  </tbody>\n",
       "</table>\n",
       "</div>"
      ],
      "text/plain": [
       "       Station  Latitude  Longitude  Temperature  Humidity  Temperature Min  \\\n",
       "0  Port Alfred    -33.59      26.89        71.01        78            71.01   \n",
       "1     La Palma      5.36     -74.39        66.31        96            66.31   \n",
       "2     Hermanus    -34.42      19.24        77.00        50            77.00   \n",
       "3     Coquimbo    -29.95     -71.34        57.20        93            57.20   \n",
       "4  Tuktoyaktuk     69.44    -133.03       -10.23        97           -10.23   \n",
       "\n",
       "   Temperature Max  Wind Speed  Cloudines  Timezone   Latitude Division  \n",
       "0            71.01        5.01         81      7200  Southern_Temperate  \n",
       "1            66.31        3.04         45    -18000       Tropic_Cancer  \n",
       "2            77.00        8.01          0      7200  Southern_Temperate  \n",
       "3            57.20        6.93          0    -10800  Southern_Temperate  \n",
       "4           -10.23       10.89        100    -25200              Arctic  "
      ]
     },
     "execution_count": 47,
     "metadata": {},
     "output_type": "execute_result"
    }
   ],
   "source": [
    "# Create bins to represent 4 major latitudinal geographical divisions \n",
    "# (https://en.wikipedia.org/wiki/Circle_of_latitude)\n",
    "# Arctic (lat > 65.5)\n",
    "# Northern Temperate (lat 23.55 to 65.5)\n",
    "# Tropic of Cancer (lat 0 to 23.5)\n",
    "# Tropic of Capricorn (lat 0 to -23.5 )\n",
    "# Southern Temperate (lat -23.5 to -65.5 )\n",
    "# Antarctic (lat < -65.5)\n",
    "\n",
    "# Create the bins for latitude ranges ranges\n",
    "# Bins are 0, 59, 69, 79, 89, 100.   \n",
    "bins = [-90, -65.5, -23.5, 0, 23.5, 65.5, 90]\n",
    "\n",
    "# Create the names for the four bins\n",
    "group_names = [\"Antarctic\", \"Southern_Temperate\", \"Tropic_Capricorn\", \"Tropic_Cancer\", \"Northern Temperate\", \n",
    "               \"Arctic\"]\n",
    "\n",
    "\n",
    "weather_data[\"Latitude Division\"] = pd.cut(weather_data[\"Latitude\"], bins, labels=group_names)\n",
    "weather_data.head()"
   ]
  },
  {
   "cell_type": "code",
   "execution_count": 49,
   "metadata": {},
   "outputs": [
    {
     "data": {
      "text/html": [
       "<div>\n",
       "<style scoped>\n",
       "    .dataframe tbody tr th:only-of-type {\n",
       "        vertical-align: middle;\n",
       "    }\n",
       "\n",
       "    .dataframe tbody tr th {\n",
       "        vertical-align: top;\n",
       "    }\n",
       "\n",
       "    .dataframe thead th {\n",
       "        text-align: right;\n",
       "    }\n",
       "</style>\n",
       "<table border=\"1\" class=\"dataframe\">\n",
       "  <thead>\n",
       "    <tr style=\"text-align: right;\">\n",
       "      <th></th>\n",
       "      <th>Latitude</th>\n",
       "      <th>Longitude</th>\n",
       "      <th>Temperature</th>\n",
       "      <th>Humidity</th>\n",
       "      <th>Temperature Min</th>\n",
       "      <th>Temperature Max</th>\n",
       "      <th>Wind Speed</th>\n",
       "      <th>Cloudines</th>\n",
       "      <th>Timezone</th>\n",
       "    </tr>\n",
       "  </thead>\n",
       "  <tbody>\n",
       "    <tr>\n",
       "      <th>count</th>\n",
       "      <td>552.000000</td>\n",
       "      <td>552.000000</td>\n",
       "      <td>552.000000</td>\n",
       "      <td>552.000000</td>\n",
       "      <td>552.000000</td>\n",
       "      <td>552.000000</td>\n",
       "      <td>552.000000</td>\n",
       "      <td>552.000000</td>\n",
       "      <td>552.000000</td>\n",
       "    </tr>\n",
       "    <tr>\n",
       "      <th>mean</th>\n",
       "      <td>20.828062</td>\n",
       "      <td>13.991884</td>\n",
       "      <td>49.774004</td>\n",
       "      <td>73.143116</td>\n",
       "      <td>48.928605</td>\n",
       "      <td>50.596830</td>\n",
       "      <td>8.283533</td>\n",
       "      <td>55.269928</td>\n",
       "      <td>5417.934783</td>\n",
       "    </tr>\n",
       "    <tr>\n",
       "      <th>std</th>\n",
       "      <td>33.705397</td>\n",
       "      <td>89.439041</td>\n",
       "      <td>30.913510</td>\n",
       "      <td>23.631537</td>\n",
       "      <td>31.133050</td>\n",
       "      <td>30.758359</td>\n",
       "      <td>5.930855</td>\n",
       "      <td>40.475817</td>\n",
       "      <td>21655.083376</td>\n",
       "    </tr>\n",
       "    <tr>\n",
       "      <th>min</th>\n",
       "      <td>-54.810000</td>\n",
       "      <td>-179.170000</td>\n",
       "      <td>-41.240000</td>\n",
       "      <td>1.000000</td>\n",
       "      <td>-41.240000</td>\n",
       "      <td>-41.240000</td>\n",
       "      <td>0.360000</td>\n",
       "      <td>0.000000</td>\n",
       "      <td>-39600.000000</td>\n",
       "    </tr>\n",
       "    <tr>\n",
       "      <th>25%</th>\n",
       "      <td>-6.712500</td>\n",
       "      <td>-68.017500</td>\n",
       "      <td>30.630000</td>\n",
       "      <td>62.000000</td>\n",
       "      <td>28.067500</td>\n",
       "      <td>32.000000</td>\n",
       "      <td>3.505000</td>\n",
       "      <td>2.000000</td>\n",
       "      <td>-13050.000000</td>\n",
       "    </tr>\n",
       "    <tr>\n",
       "      <th>50%</th>\n",
       "      <td>25.780000</td>\n",
       "      <td>18.405000</td>\n",
       "      <td>57.760000</td>\n",
       "      <td>80.000000</td>\n",
       "      <td>55.400000</td>\n",
       "      <td>58.890000</td>\n",
       "      <td>6.930000</td>\n",
       "      <td>75.000000</td>\n",
       "      <td>7200.000000</td>\n",
       "    </tr>\n",
       "    <tr>\n",
       "      <th>75%</th>\n",
       "      <td>49.297500</td>\n",
       "      <td>89.485000</td>\n",
       "      <td>74.702500</td>\n",
       "      <td>92.000000</td>\n",
       "      <td>74.702500</td>\n",
       "      <td>75.102500</td>\n",
       "      <td>11.410000</td>\n",
       "      <td>98.000000</td>\n",
       "      <td>25200.000000</td>\n",
       "    </tr>\n",
       "    <tr>\n",
       "      <th>max</th>\n",
       "      <td>78.220000</td>\n",
       "      <td>179.320000</td>\n",
       "      <td>109.400000</td>\n",
       "      <td>100.000000</td>\n",
       "      <td>109.400000</td>\n",
       "      <td>109.400000</td>\n",
       "      <td>38.430000</td>\n",
       "      <td>100.000000</td>\n",
       "      <td>46800.000000</td>\n",
       "    </tr>\n",
       "  </tbody>\n",
       "</table>\n",
       "</div>"
      ],
      "text/plain": [
       "         Latitude   Longitude  Temperature    Humidity  Temperature Min  \\\n",
       "count  552.000000  552.000000   552.000000  552.000000       552.000000   \n",
       "mean    20.828062   13.991884    49.774004   73.143116        48.928605   \n",
       "std     33.705397   89.439041    30.913510   23.631537        31.133050   \n",
       "min    -54.810000 -179.170000   -41.240000    1.000000       -41.240000   \n",
       "25%     -6.712500  -68.017500    30.630000   62.000000        28.067500   \n",
       "50%     25.780000   18.405000    57.760000   80.000000        55.400000   \n",
       "75%     49.297500   89.485000    74.702500   92.000000        74.702500   \n",
       "max     78.220000  179.320000   109.400000  100.000000       109.400000   \n",
       "\n",
       "       Temperature Max  Wind Speed   Cloudines      Timezone  \n",
       "count       552.000000  552.000000  552.000000    552.000000  \n",
       "mean         50.596830    8.283533   55.269928   5417.934783  \n",
       "std          30.758359    5.930855   40.475817  21655.083376  \n",
       "min         -41.240000    0.360000    0.000000 -39600.000000  \n",
       "25%          32.000000    3.505000    2.000000 -13050.000000  \n",
       "50%          58.890000    6.930000   75.000000   7200.000000  \n",
       "75%          75.102500   11.410000   98.000000  25200.000000  \n",
       "max         109.400000   38.430000  100.000000  46800.000000  "
      ]
     },
     "execution_count": 49,
     "metadata": {},
     "output_type": "execute_result"
    }
   ],
   "source": [
    "weather_data.describe()"
   ]
  },
  {
   "cell_type": "code",
   "execution_count": 48,
   "metadata": {},
   "outputs": [],
   "source": [
    "# Generate a csv with the data from dataframe\n",
    "\n",
    "#Export file as a CSV, without the Pandas index, but with the header\n",
    "weather_data.to_csv(\"weather_data.csv\", index=False, header=True)"
   ]
  },
  {
   "cell_type": "code",
   "execution_count": 128,
   "metadata": {
    "scrolled": true
   },
   "outputs": [
    {
     "data": {
      "text/html": [
       "<div>\n",
       "<style scoped>\n",
       "    .dataframe tbody tr th:only-of-type {\n",
       "        vertical-align: middle;\n",
       "    }\n",
       "\n",
       "    .dataframe tbody tr th {\n",
       "        vertical-align: top;\n",
       "    }\n",
       "\n",
       "    .dataframe thead th {\n",
       "        text-align: right;\n",
       "    }\n",
       "</style>\n",
       "<table border=\"1\" class=\"dataframe\">\n",
       "  <thead>\n",
       "    <tr style=\"text-align: right;\">\n",
       "      <th></th>\n",
       "      <th>Station</th>\n",
       "      <th>Latitude</th>\n",
       "      <th>Longitude</th>\n",
       "      <th>Temperature</th>\n",
       "      <th>Humidity</th>\n",
       "      <th>Temperature Min</th>\n",
       "      <th>Temperature Max</th>\n",
       "      <th>Wind Speed</th>\n",
       "      <th>Cloudines</th>\n",
       "      <th>Timezone</th>\n",
       "    </tr>\n",
       "    <tr>\n",
       "      <th>Latitude Division</th>\n",
       "      <th></th>\n",
       "      <th></th>\n",
       "      <th></th>\n",
       "      <th></th>\n",
       "      <th></th>\n",
       "      <th></th>\n",
       "      <th></th>\n",
       "      <th></th>\n",
       "      <th></th>\n",
       "      <th></th>\n",
       "    </tr>\n",
       "  </thead>\n",
       "  <tbody>\n",
       "    <tr>\n",
       "      <th>Antarctic</th>\n",
       "      <td>0</td>\n",
       "      <td>0</td>\n",
       "      <td>0</td>\n",
       "      <td>0</td>\n",
       "      <td>0</td>\n",
       "      <td>0</td>\n",
       "      <td>0</td>\n",
       "      <td>0</td>\n",
       "      <td>0</td>\n",
       "      <td>0</td>\n",
       "    </tr>\n",
       "    <tr>\n",
       "      <th>Southern_Temperate</th>\n",
       "      <td>74</td>\n",
       "      <td>74</td>\n",
       "      <td>74</td>\n",
       "      <td>74</td>\n",
       "      <td>74</td>\n",
       "      <td>74</td>\n",
       "      <td>74</td>\n",
       "      <td>74</td>\n",
       "      <td>74</td>\n",
       "      <td>74</td>\n",
       "    </tr>\n",
       "    <tr>\n",
       "      <th>Tropic_Capricorn</th>\n",
       "      <td>95</td>\n",
       "      <td>95</td>\n",
       "      <td>95</td>\n",
       "      <td>95</td>\n",
       "      <td>95</td>\n",
       "      <td>95</td>\n",
       "      <td>95</td>\n",
       "      <td>95</td>\n",
       "      <td>95</td>\n",
       "      <td>95</td>\n",
       "    </tr>\n",
       "    <tr>\n",
       "      <th>Tropic_Cancer</th>\n",
       "      <td>98</td>\n",
       "      <td>98</td>\n",
       "      <td>98</td>\n",
       "      <td>98</td>\n",
       "      <td>98</td>\n",
       "      <td>98</td>\n",
       "      <td>98</td>\n",
       "      <td>98</td>\n",
       "      <td>98</td>\n",
       "      <td>98</td>\n",
       "    </tr>\n",
       "    <tr>\n",
       "      <th>Northern Temperate</th>\n",
       "      <td>245</td>\n",
       "      <td>245</td>\n",
       "      <td>245</td>\n",
       "      <td>245</td>\n",
       "      <td>245</td>\n",
       "      <td>245</td>\n",
       "      <td>245</td>\n",
       "      <td>245</td>\n",
       "      <td>245</td>\n",
       "      <td>245</td>\n",
       "    </tr>\n",
       "    <tr>\n",
       "      <th>Arctic</th>\n",
       "      <td>40</td>\n",
       "      <td>40</td>\n",
       "      <td>40</td>\n",
       "      <td>40</td>\n",
       "      <td>40</td>\n",
       "      <td>40</td>\n",
       "      <td>40</td>\n",
       "      <td>40</td>\n",
       "      <td>40</td>\n",
       "      <td>40</td>\n",
       "    </tr>\n",
       "  </tbody>\n",
       "</table>\n",
       "</div>"
      ],
      "text/plain": [
       "                    Station  Latitude  Longitude  Temperature  Humidity  \\\n",
       "Latitude Division                                                         \n",
       "Antarctic                 0         0          0            0         0   \n",
       "Southern_Temperate       74        74         74           74        74   \n",
       "Tropic_Capricorn         95        95         95           95        95   \n",
       "Tropic_Cancer            98        98         98           98        98   \n",
       "Northern Temperate      245       245        245          245       245   \n",
       "Arctic                   40        40         40           40        40   \n",
       "\n",
       "                    Temperature Min  Temperature Max  Wind Speed  Cloudines  \\\n",
       "Latitude Division                                                             \n",
       "Antarctic                         0                0           0          0   \n",
       "Southern_Temperate               74               74          74         74   \n",
       "Tropic_Capricorn                 95               95          95         95   \n",
       "Tropic_Cancer                    98               98          98         98   \n",
       "Northern Temperate              245              245         245        245   \n",
       "Arctic                           40               40          40         40   \n",
       "\n",
       "                    Timezone  \n",
       "Latitude Division             \n",
       "Antarctic                  0  \n",
       "Southern_Temperate        74  \n",
       "Tropic_Capricorn          95  \n",
       "Tropic_Cancer             98  \n",
       "Northern Temperate       245  \n",
       "Arctic                    40  "
      ]
     },
     "execution_count": 128,
     "metadata": {},
     "output_type": "execute_result"
    }
   ],
   "source": [
    "# Grouping the dataframe by latitudinal divisions (mean values)\n",
    "\n",
    "Grouped_weather = weather_data.groupby(['Latitude Division']).count()\n",
    "Grouped_weather"
   ]
  },
  {
   "cell_type": "markdown",
   "metadata": {},
   "source": [
    "# Comments\n",
    "\n",
    "1) Out of the 522 stations in the dataset, almost 70% are located in the northern hemisphere (383).\n",
    "\n",
    "2) There is no data for the Antarctic"
   ]
  },
  {
   "cell_type": "markdown",
   "metadata": {},
   "source": [
    "# Generating plots for analysis"
   ]
  },
  {
   "cell_type": "code",
   "execution_count": 101,
   "metadata": {},
   "outputs": [
    {
     "data": {
      "image/png": "[encoded data removed]",
      "text/plain": [
       "<Figure size 1080x1080 with 4 Axes>"
      ]
     },
     "metadata": {
      "needs_background": "light"
     },
     "output_type": "display_data"
    }
   ],
   "source": [
    "# Generating scatter plot for temperature vs. latitude for all locations\n",
    "\n",
    "fig, axes = plt.subplots(ncols=2,nrows=2, sharex = True, figsize=(15,15))\n",
    "ax1, ax2, ax3, ax4 = axes.flatten()\n",
    "\n",
    "# Setting general plot header\n",
    "fig.suptitle(\"Some weather metrics (December 22, 2019) vs. Latitude\", fontsize=24, fontweight=\"bold\")\n",
    "\n",
    "# Generating scatter plot for temperature vs. latitude for all locations             \n",
    "ax1.scatter(weather_data['Latitude'], weather_data['Temperature'], marker=\"o\", facecolors=\"red\", edgecolors=\"black\")\n",
    "# Plot title\n",
    "ax1.set_title('Temperature (Farenheit) vs. Latitude - Dec. 29-2019')\n",
    "# Setting axis labels\n",
    "ax1.set_xlabel(\"Latitude\")\n",
    "ax1.set_ylabel(\"Temperature (Farenheit)\")\n",
    "# Setting grid\n",
    "ax1.grid(axis ='y',color='grey', linestyle='-', linewidth=0.25)\n",
    "ax1.grid(axis ='x',color='grey', linestyle='-', linewidth=0.25)\n",
    "\n",
    "# Generating scatter plot for humidity vs. latitude for all locations             \n",
    "ax2.scatter(weather_data['Latitude'], weather_data['Humidity'], marker=\"o\", facecolors=\"blue\", edgecolors=\"black\")\n",
    "# Plot title\n",
    "ax2.set_title('Humidity (%) vs. Latitude - Dec. 29-2019')\n",
    "# Setting axis labels\n",
    "ax2.set_xlabel(\"Latitude\")\n",
    "ax2.set_ylabel(\"Humidity(%)\")\n",
    "# Setting grid\n",
    "ax2.grid(axis ='y',color='grey', linestyle='-', linewidth=0.25)\n",
    "ax2.grid(axis ='x',color='grey', linestyle='-', linewidth=0.25)\n",
    "\n",
    "# Generating scatter plot for cloudiness vs. latitude for all locations             \n",
    "ax3.scatter(weather_data['Latitude'], weather_data['Cloudines'], marker=\"o\", facecolors=\"yellow\", edgecolors=\"black\")\n",
    "# Plot title\n",
    "ax3.set_title('Cloudiness (%) vs. Latitude - Dec. 29-2019')\n",
    "# Setting axis labels\n",
    "ax3.set_xlabel(\"Latitude\")\n",
    "ax3.set_ylabel(\"Cloudiness (%)\")\n",
    "# Setting grid\n",
    "ax3.grid(axis ='y',color='grey', linestyle='-', linewidth=0.25)\n",
    "ax3.grid(axis ='x',color='grey', linestyle='-', linewidth=0.25)\n",
    "\n",
    "# Generating scatter plot for wind speed vs. latitude for all locations             \n",
    "ax4.scatter(weather_data['Latitude'], weather_data['Wind Speed'], marker=\"o\", facecolors=\"black\", edgecolors=\"black\")\n",
    "# Plot title\n",
    "ax4.set_title('Wind Speed (mph) vs. Latitude - Dec. 29-2019')\n",
    "# Setting axis labels\n",
    "ax4.set_xlabel(\"Latitude\")\n",
    "ax4.set_ylabel(\"Wind Speed (mph)\")\n",
    "# Setting grid\n",
    "ax4.grid(axis ='y',color='grey', linestyle='-', linewidth=0.25)\n",
    "ax4.grid(axis ='x',color='grey', linestyle='-', linewidth=0.25)\n",
    "\n",
    "\n",
    "plt.savefig(\"Weather Metrics API vs. Latitude.png\")"
   ]
  },
  {
   "cell_type": "code",
   "execution_count": 92,
   "metadata": {},
   "outputs": [
    {
     "data": {
      "text/html": [
       "<div>\n",
       "<style scoped>\n",
       "    .dataframe tbody tr th:only-of-type {\n",
       "        vertical-align: middle;\n",
       "    }\n",
       "\n",
       "    .dataframe tbody tr th {\n",
       "        vertical-align: top;\n",
       "    }\n",
       "\n",
       "    .dataframe thead th {\n",
       "        text-align: right;\n",
       "    }\n",
       "</style>\n",
       "<table border=\"1\" class=\"dataframe\">\n",
       "  <thead>\n",
       "    <tr style=\"text-align: right;\">\n",
       "      <th></th>\n",
       "      <th>Station</th>\n",
       "      <th>Latitude</th>\n",
       "      <th>Longitude</th>\n",
       "      <th>Temperature</th>\n",
       "      <th>Humidity</th>\n",
       "      <th>Temperature Min</th>\n",
       "      <th>Temperature Max</th>\n",
       "      <th>Wind Speed</th>\n",
       "      <th>Cloudines</th>\n",
       "      <th>Timezone</th>\n",
       "      <th>Latitude Division</th>\n",
       "    </tr>\n",
       "  </thead>\n",
       "  <tbody>\n",
       "    <tr>\n",
       "      <th>152</th>\n",
       "      <td>Yulara</td>\n",
       "      <td>-25.24</td>\n",
       "      <td>130.99</td>\n",
       "      <td>109.40</td>\n",
       "      <td>7</td>\n",
       "      <td>109.40</td>\n",
       "      <td>109.40</td>\n",
       "      <td>12.75</td>\n",
       "      <td>37</td>\n",
       "      <td>34200</td>\n",
       "      <td>Southern_Temperate</td>\n",
       "    </tr>\n",
       "    <tr>\n",
       "      <th>144</th>\n",
       "      <td>Alice Springs</td>\n",
       "      <td>-23.70</td>\n",
       "      <td>133.88</td>\n",
       "      <td>105.80</td>\n",
       "      <td>9</td>\n",
       "      <td>105.80</td>\n",
       "      <td>105.80</td>\n",
       "      <td>16.11</td>\n",
       "      <td>0</td>\n",
       "      <td>34200</td>\n",
       "      <td>Southern_Temperate</td>\n",
       "    </tr>\n",
       "    <tr>\n",
       "      <th>208</th>\n",
       "      <td>Mount Isa</td>\n",
       "      <td>-20.73</td>\n",
       "      <td>139.49</td>\n",
       "      <td>102.20</td>\n",
       "      <td>10</td>\n",
       "      <td>102.20</td>\n",
       "      <td>102.20</td>\n",
       "      <td>12.75</td>\n",
       "      <td>3</td>\n",
       "      <td>36000</td>\n",
       "      <td>Tropic_Capricorn</td>\n",
       "    </tr>\n",
       "    <tr>\n",
       "      <th>252</th>\n",
       "      <td>Morondava</td>\n",
       "      <td>-20.30</td>\n",
       "      <td>44.28</td>\n",
       "      <td>100.94</td>\n",
       "      <td>30</td>\n",
       "      <td>100.94</td>\n",
       "      <td>100.94</td>\n",
       "      <td>3.36</td>\n",
       "      <td>100</td>\n",
       "      <td>10800</td>\n",
       "      <td>Tropic_Capricorn</td>\n",
       "    </tr>\n",
       "    <tr>\n",
       "      <th>496</th>\n",
       "      <td>Beloha</td>\n",
       "      <td>-25.17</td>\n",
       "      <td>45.06</td>\n",
       "      <td>100.58</td>\n",
       "      <td>26</td>\n",
       "      <td>100.58</td>\n",
       "      <td>100.58</td>\n",
       "      <td>1.90</td>\n",
       "      <td>0</td>\n",
       "      <td>10800</td>\n",
       "      <td>Southern_Temperate</td>\n",
       "    </tr>\n",
       "  </tbody>\n",
       "</table>\n",
       "</div>"
      ],
      "text/plain": [
       "           Station  Latitude  Longitude  Temperature  Humidity  \\\n",
       "152         Yulara    -25.24     130.99       109.40         7   \n",
       "144  Alice Springs    -23.70     133.88       105.80         9   \n",
       "208      Mount Isa    -20.73     139.49       102.20        10   \n",
       "252      Morondava    -20.30      44.28       100.94        30   \n",
       "496         Beloha    -25.17      45.06       100.58        26   \n",
       "\n",
       "     Temperature Min  Temperature Max  Wind Speed  Cloudines  Timezone  \\\n",
       "152           109.40           109.40       12.75         37     34200   \n",
       "144           105.80           105.80       16.11          0     34200   \n",
       "208           102.20           102.20       12.75          3     36000   \n",
       "252           100.94           100.94        3.36        100     10800   \n",
       "496           100.58           100.58        1.90          0     10800   \n",
       "\n",
       "      Latitude Division  \n",
       "152  Southern_Temperate  \n",
       "144  Southern_Temperate  \n",
       "208    Tropic_Capricorn  \n",
       "252    Tropic_Capricorn  \n",
       "496  Southern_Temperate  "
      ]
     },
     "execution_count": 92,
     "metadata": {},
     "output_type": "execute_result"
    }
   ],
   "source": [
    "# Sorting dataframe by temperature to identify coldest and hottest locations\n",
    "\n",
    "temp_desc = weather_data.sort_values(by='Temperature', ascending=False)\n",
    "temp_desc.head()"
   ]
  },
  {
   "cell_type": "code",
   "execution_count": 129,
   "metadata": {
    "scrolled": true
   },
   "outputs": [
    {
     "data": {
      "text/html": [
       "<div>\n",
       "<style scoped>\n",
       "    .dataframe tbody tr th:only-of-type {\n",
       "        vertical-align: middle;\n",
       "    }\n",
       "\n",
       "    .dataframe tbody tr th {\n",
       "        vertical-align: top;\n",
       "    }\n",
       "\n",
       "    .dataframe thead th {\n",
       "        text-align: right;\n",
       "    }\n",
       "</style>\n",
       "<table border=\"1\" class=\"dataframe\">\n",
       "  <thead>\n",
       "    <tr style=\"text-align: right;\">\n",
       "      <th></th>\n",
       "      <th>Station</th>\n",
       "      <th>Latitude</th>\n",
       "      <th>Longitude</th>\n",
       "      <th>Temperature</th>\n",
       "      <th>Humidity</th>\n",
       "      <th>Temperature Min</th>\n",
       "      <th>Temperature Max</th>\n",
       "      <th>Wind Speed</th>\n",
       "      <th>Cloudines</th>\n",
       "      <th>Timezone</th>\n",
       "      <th>Latitude Division</th>\n",
       "    </tr>\n",
       "  </thead>\n",
       "  <tbody>\n",
       "    <tr>\n",
       "      <th>357</th>\n",
       "      <td>Bilibino</td>\n",
       "      <td>68.06</td>\n",
       "      <td>166.44</td>\n",
       "      <td>-33.16</td>\n",
       "      <td>96</td>\n",
       "      <td>-33.16</td>\n",
       "      <td>-33.16</td>\n",
       "      <td>2.57</td>\n",
       "      <td>0</td>\n",
       "      <td>43200</td>\n",
       "      <td>Arctic</td>\n",
       "    </tr>\n",
       "    <tr>\n",
       "      <th>214</th>\n",
       "      <td>Sangar</td>\n",
       "      <td>63.92</td>\n",
       "      <td>127.47</td>\n",
       "      <td>-33.50</td>\n",
       "      <td>96</td>\n",
       "      <td>-33.50</td>\n",
       "      <td>-33.50</td>\n",
       "      <td>3.67</td>\n",
       "      <td>100</td>\n",
       "      <td>32400</td>\n",
       "      <td>Northern Temperate</td>\n",
       "    </tr>\n",
       "    <tr>\n",
       "      <th>351</th>\n",
       "      <td>Borogontsy</td>\n",
       "      <td>62.67</td>\n",
       "      <td>131.17</td>\n",
       "      <td>-35.27</td>\n",
       "      <td>97</td>\n",
       "      <td>-35.27</td>\n",
       "      <td>-35.27</td>\n",
       "      <td>2.13</td>\n",
       "      <td>100</td>\n",
       "      <td>32400</td>\n",
       "      <td>Northern Temperate</td>\n",
       "    </tr>\n",
       "    <tr>\n",
       "      <th>52</th>\n",
       "      <td>Norman Wells</td>\n",
       "      <td>65.28</td>\n",
       "      <td>-126.83</td>\n",
       "      <td>-38.20</td>\n",
       "      <td>65</td>\n",
       "      <td>-38.20</td>\n",
       "      <td>-38.20</td>\n",
       "      <td>4.00</td>\n",
       "      <td>5</td>\n",
       "      <td>-25200</td>\n",
       "      <td>Northern Temperate</td>\n",
       "    </tr>\n",
       "    <tr>\n",
       "      <th>63</th>\n",
       "      <td>Dzhebariki-Khaya</td>\n",
       "      <td>62.22</td>\n",
       "      <td>135.80</td>\n",
       "      <td>-41.24</td>\n",
       "      <td>96</td>\n",
       "      <td>-41.24</td>\n",
       "      <td>-41.24</td>\n",
       "      <td>1.21</td>\n",
       "      <td>100</td>\n",
       "      <td>32400</td>\n",
       "      <td>Northern Temperate</td>\n",
       "    </tr>\n",
       "  </tbody>\n",
       "</table>\n",
       "</div>"
      ],
      "text/plain": [
       "              Station  Latitude  Longitude  Temperature  Humidity  \\\n",
       "357          Bilibino     68.06     166.44       -33.16        96   \n",
       "214            Sangar     63.92     127.47       -33.50        96   \n",
       "351        Borogontsy     62.67     131.17       -35.27        97   \n",
       "52       Norman Wells     65.28    -126.83       -38.20        65   \n",
       "63   Dzhebariki-Khaya     62.22     135.80       -41.24        96   \n",
       "\n",
       "     Temperature Min  Temperature Max  Wind Speed  Cloudines  Timezone  \\\n",
       "357           -33.16           -33.16        2.57          0     43200   \n",
       "214           -33.50           -33.50        3.67        100     32400   \n",
       "351           -35.27           -35.27        2.13        100     32400   \n",
       "52            -38.20           -38.20        4.00          5    -25200   \n",
       "63            -41.24           -41.24        1.21        100     32400   \n",
       "\n",
       "      Latitude Division  \n",
       "357              Arctic  \n",
       "214  Northern Temperate  \n",
       "351  Northern Temperate  \n",
       "52   Northern Temperate  \n",
       "63   Northern Temperate  "
      ]
     },
     "execution_count": 129,
     "metadata": {},
     "output_type": "execute_result"
    }
   ],
   "source": [
    "temp_desc.tail()"
   ]
  },
  {
   "cell_type": "code",
   "execution_count": 130,
   "metadata": {
    "scrolled": false
   },
   "outputs": [
    {
     "data": {
      "text/html": [
       "<div>\n",
       "<style scoped>\n",
       "    .dataframe tbody tr th:only-of-type {\n",
       "        vertical-align: middle;\n",
       "    }\n",
       "\n",
       "    .dataframe tbody tr th {\n",
       "        vertical-align: top;\n",
       "    }\n",
       "\n",
       "    .dataframe thead th {\n",
       "        text-align: right;\n",
       "    }\n",
       "</style>\n",
       "<table border=\"1\" class=\"dataframe\">\n",
       "  <thead>\n",
       "    <tr style=\"text-align: right;\">\n",
       "      <th></th>\n",
       "      <th>Latitude</th>\n",
       "      <th>Longitude</th>\n",
       "      <th>Temperature</th>\n",
       "      <th>Humidity</th>\n",
       "      <th>Temperature Min</th>\n",
       "      <th>Temperature Max</th>\n",
       "      <th>Wind Speed</th>\n",
       "      <th>Cloudines</th>\n",
       "      <th>Timezone</th>\n",
       "    </tr>\n",
       "    <tr>\n",
       "      <th>Latitude Division</th>\n",
       "      <th></th>\n",
       "      <th></th>\n",
       "      <th></th>\n",
       "      <th></th>\n",
       "      <th></th>\n",
       "      <th></th>\n",
       "      <th></th>\n",
       "      <th></th>\n",
       "      <th></th>\n",
       "    </tr>\n",
       "  </thead>\n",
       "  <tbody>\n",
       "    <tr>\n",
       "      <th>Antarctic</th>\n",
       "      <td>NaN</td>\n",
       "      <td>NaN</td>\n",
       "      <td>NaN</td>\n",
       "      <td>NaN</td>\n",
       "      <td>NaN</td>\n",
       "      <td>NaN</td>\n",
       "      <td>NaN</td>\n",
       "      <td>NaN</td>\n",
       "      <td>NaN</td>\n",
       "    </tr>\n",
       "    <tr>\n",
       "      <th>Southern_Temperate</th>\n",
       "      <td>-35.095000</td>\n",
       "      <td>36.118378</td>\n",
       "      <td>65.299730</td>\n",
       "      <td>62.810811</td>\n",
       "      <td>64.595135</td>\n",
       "      <td>66.015000</td>\n",
       "      <td>9.596757</td>\n",
       "      <td>42.743243</td>\n",
       "      <td>12356.756757</td>\n",
       "    </tr>\n",
       "    <tr>\n",
       "      <th>Tropic_Capricorn</th>\n",
       "      <td>-10.817368</td>\n",
       "      <td>9.317474</td>\n",
       "      <td>76.697368</td>\n",
       "      <td>78.747368</td>\n",
       "      <td>76.588526</td>\n",
       "      <td>76.832947</td>\n",
       "      <td>6.701053</td>\n",
       "      <td>69.957895</td>\n",
       "      <td>2576.842105</td>\n",
       "    </tr>\n",
       "    <tr>\n",
       "      <th>Tropic_Cancer</th>\n",
       "      <td>11.989388</td>\n",
       "      <td>7.156429</td>\n",
       "      <td>76.154082</td>\n",
       "      <td>62.040816</td>\n",
       "      <td>75.546837</td>\n",
       "      <td>76.655408</td>\n",
       "      <td>9.299898</td>\n",
       "      <td>48.173469</td>\n",
       "      <td>2736.734694</td>\n",
       "    </tr>\n",
       "    <tr>\n",
       "      <th>Northern Temperate</th>\n",
       "      <td>45.624653</td>\n",
       "      <td>8.843020</td>\n",
       "      <td>32.044735</td>\n",
       "      <td>76.836735</td>\n",
       "      <td>30.657592</td>\n",
       "      <td>33.390367</td>\n",
       "      <td>8.029714</td>\n",
       "      <td>54.065306</td>\n",
       "      <td>4206.122449</td>\n",
       "    </tr>\n",
       "    <tr>\n",
       "      <th>Arctic</th>\n",
       "      <td>69.219250</td>\n",
       "      <td>32.443250</td>\n",
       "      <td>1.069000</td>\n",
       "      <td>83.525000</td>\n",
       "      <td>0.948500</td>\n",
       "      <td>1.308500</td>\n",
       "      <td>8.677000</td>\n",
       "      <td>68.325000</td>\n",
       "      <td>13320.000000</td>\n",
       "    </tr>\n",
       "  </tbody>\n",
       "</table>\n",
       "</div>"
      ],
      "text/plain": [
       "                     Latitude  Longitude  Temperature   Humidity  \\\n",
       "Latitude Division                                                  \n",
       "Antarctic                 NaN        NaN          NaN        NaN   \n",
       "Southern_Temperate -35.095000  36.118378    65.299730  62.810811   \n",
       "Tropic_Capricorn   -10.817368   9.317474    76.697368  78.747368   \n",
       "Tropic_Cancer       11.989388   7.156429    76.154082  62.040816   \n",
       "Northern Temperate  45.624653   8.843020    32.044735  76.836735   \n",
       "Arctic              69.219250  32.443250     1.069000  83.525000   \n",
       "\n",
       "                    Temperature Min  Temperature Max  Wind Speed  Cloudines  \\\n",
       "Latitude Division                                                             \n",
       "Antarctic                       NaN              NaN         NaN        NaN   \n",
       "Southern_Temperate        64.595135        66.015000    9.596757  42.743243   \n",
       "Tropic_Capricorn          76.588526        76.832947    6.701053  69.957895   \n",
       "Tropic_Cancer             75.546837        76.655408    9.299898  48.173469   \n",
       "Northern Temperate        30.657592        33.390367    8.029714  54.065306   \n",
       "Arctic                     0.948500         1.308500    8.677000  68.325000   \n",
       "\n",
       "                        Timezone  \n",
       "Latitude Division                 \n",
       "Antarctic                    NaN  \n",
       "Southern_Temperate  12356.756757  \n",
       "Tropic_Capricorn     2576.842105  \n",
       "Tropic_Cancer        2736.734694  \n",
       "Northern Temperate   4206.122449  \n",
       "Arctic              13320.000000  "
      ]
     },
     "execution_count": 130,
     "metadata": {},
     "output_type": "execute_result"
    }
   ],
   "source": [
    "# Grouping the dataframe by latitudinal divisions (mean values)\n",
    "\n",
    "Grouped_weather = weather_data.groupby(['Latitude Division']).mean()\n",
    "Grouped_weather"
   ]
  },
  {
   "cell_type": "markdown",
   "metadata": {},
   "source": [
    "#  Observable trends\n",
    "\n",
    "1) Temperatures changed with latitude: southern locations shows minimum temeprature of 40 degrees Farenheit whereas northern locations show a range from -40 to 80 Farenheit. This is expected since this if the official first day for the Summer (southern hemisphere) and Winter (northern hemisphere)\n",
    "\n",
    "2) Top 5 hotter locations are located in Australia. There have been news on the extreme heat and high temperatures in Australia this week and the relation to the fires\n",
    "\n",
    "3) The two coldest stations are located in Rusia (Dzhebariki-Khaya) and Canada (Norman Wells)\n",
    "\n",
    "4) Without considering the high temperature outliers mentioned in the trend # 2, the temperature in regions close to the equator show the highest average (76 degrees for the tropics of Cancer and Capricorn)\n",
    "\n",
    "5) Humidity seems to be higher in latitudes higher at high latitudes north (Arctic - 83.5% in average) \n"
   ]
  },
  {
   "cell_type": "code",
   "execution_count": 131,
   "metadata": {
    "scrolled": true
   },
   "outputs": [
    {
     "data": {
      "image/png": "[encoded data removed]",
      "text/plain": [
       "<Figure size 1080x504 with 2 Axes>"
      ]
     },
     "metadata": {
      "needs_background": "light"
     },
     "output_type": "display_data"
    }
   ],
   "source": [
    "# Generating scatter plot for temperature vs. humidity and cloudiness for all locations\n",
    "\n",
    "fig, (ax5, ax6) = plt.subplots(1,2,sharex = True, figsize=(15,7))\n",
    "\n",
    "\n",
    "# Setting general plot header\n",
    "fig.suptitle(\"Temperature in Farenheit (December 22, 2019) vs. other weather metrics\", fontsize=24, fontweight=\"bold\")\n",
    "\n",
    "# Generating scatter plot for temperature vs. latitude for all locations             \n",
    "ax5.scatter(weather_data['Cloudines'], weather_data['Temperature'], marker=\"o\", facecolors=\"red\", edgecolors=\"black\")\n",
    "# Plot title\n",
    "ax5.set_title('Temperature (Farenheit) vs. % of Cloudiness - Dec. 29-2019')\n",
    "# Setting axis labels\n",
    "ax5.set_xlabel(\"Cloudiness (%)\")\n",
    "ax5.set_ylabel(\"Temperature (Farenheit)\")\n",
    "# Setting grid\n",
    "ax5.grid(axis ='y',color='grey', linestyle='-', linewidth=0.25)\n",
    "ax5.grid(axis ='x',color='grey', linestyle='-', linewidth=0.25)\n",
    "\n",
    "# Generating scatter plot for temperature vs. humidity for all locations             \n",
    "ax6.scatter(weather_data['Humidity'], weather_data['Temperature'], marker=\"o\", facecolors=\"blue\", edgecolors=\"black\")\n",
    "# Plot title\n",
    "ax6.set_title('Tempetarure (Farenheit) vs. Humidity (%) - Dec. 29-2019')\n",
    "# Setting axis labels\n",
    "ax6.set_xlabel(\"Humidity (%)\")\n",
    "ax6.set_ylabel(\"Temperature (Farenheit)\")\n",
    "# Setting grid\n",
    "ax6.grid(axis ='y',color='grey', linestyle='-', linewidth=0.25)\n",
    "ax6.grid(axis ='x',color='grey', linestyle='-', linewidth=0.25)\n",
    "\n",
    "\n",
    "plt.savefig(\"Temperature vs. other metrics.png\")"
   ]
  },
  {
   "cell_type": "code",
   "execution_count": 122,
   "metadata": {},
   "outputs": [
    {
     "data": {
      "text/html": [
       "<div>\n",
       "<style scoped>\n",
       "    .dataframe tbody tr th:only-of-type {\n",
       "        vertical-align: middle;\n",
       "    }\n",
       "\n",
       "    .dataframe tbody tr th {\n",
       "        vertical-align: top;\n",
       "    }\n",
       "\n",
       "    .dataframe thead th {\n",
       "        text-align: right;\n",
       "    }\n",
       "</style>\n",
       "<table border=\"1\" class=\"dataframe\">\n",
       "  <thead>\n",
       "    <tr style=\"text-align: right;\">\n",
       "      <th></th>\n",
       "      <th>Station</th>\n",
       "      <th>Latitude</th>\n",
       "      <th>Longitude</th>\n",
       "      <th>Temperature</th>\n",
       "      <th>Humidity</th>\n",
       "      <th>Temperature Min</th>\n",
       "      <th>Temperature Max</th>\n",
       "      <th>Wind Speed</th>\n",
       "      <th>Cloudines</th>\n",
       "      <th>Timezone</th>\n",
       "      <th>Latitude Division</th>\n",
       "    </tr>\n",
       "  </thead>\n",
       "  <tbody>\n",
       "    <tr>\n",
       "      <th>511</th>\n",
       "      <td>Nicoya</td>\n",
       "      <td>10.15</td>\n",
       "      <td>-85.45</td>\n",
       "      <td>73.0</td>\n",
       "      <td>1</td>\n",
       "      <td>73.0</td>\n",
       "      <td>73.0</td>\n",
       "      <td>5.19</td>\n",
       "      <td>100</td>\n",
       "      <td>-21600</td>\n",
       "      <td>Tropic_Cancer</td>\n",
       "    </tr>\n",
       "    <tr>\n",
       "      <th>377</th>\n",
       "      <td>Broken Hill</td>\n",
       "      <td>-31.97</td>\n",
       "      <td>141.45</td>\n",
       "      <td>93.2</td>\n",
       "      <td>5</td>\n",
       "      <td>93.2</td>\n",
       "      <td>93.2</td>\n",
       "      <td>14.99</td>\n",
       "      <td>99</td>\n",
       "      <td>37800</td>\n",
       "      <td>Southern_Temperate</td>\n",
       "    </tr>\n",
       "    <tr>\n",
       "      <th>152</th>\n",
       "      <td>Yulara</td>\n",
       "      <td>-25.24</td>\n",
       "      <td>130.99</td>\n",
       "      <td>109.4</td>\n",
       "      <td>7</td>\n",
       "      <td>109.4</td>\n",
       "      <td>109.4</td>\n",
       "      <td>12.75</td>\n",
       "      <td>37</td>\n",
       "      <td>34200</td>\n",
       "      <td>Southern_Temperate</td>\n",
       "    </tr>\n",
       "    <tr>\n",
       "      <th>144</th>\n",
       "      <td>Alice Springs</td>\n",
       "      <td>-23.70</td>\n",
       "      <td>133.88</td>\n",
       "      <td>105.8</td>\n",
       "      <td>9</td>\n",
       "      <td>105.8</td>\n",
       "      <td>105.8</td>\n",
       "      <td>16.11</td>\n",
       "      <td>0</td>\n",
       "      <td>34200</td>\n",
       "      <td>Southern_Temperate</td>\n",
       "    </tr>\n",
       "    <tr>\n",
       "      <th>208</th>\n",
       "      <td>Mount Isa</td>\n",
       "      <td>-20.73</td>\n",
       "      <td>139.49</td>\n",
       "      <td>102.2</td>\n",
       "      <td>10</td>\n",
       "      <td>102.2</td>\n",
       "      <td>102.2</td>\n",
       "      <td>12.75</td>\n",
       "      <td>3</td>\n",
       "      <td>36000</td>\n",
       "      <td>Tropic_Capricorn</td>\n",
       "    </tr>\n",
       "  </tbody>\n",
       "</table>\n",
       "</div>"
      ],
      "text/plain": [
       "           Station  Latitude  Longitude  Temperature  Humidity  \\\n",
       "511         Nicoya     10.15     -85.45         73.0         1   \n",
       "377    Broken Hill    -31.97     141.45         93.2         5   \n",
       "152         Yulara    -25.24     130.99        109.4         7   \n",
       "144  Alice Springs    -23.70     133.88        105.8         9   \n",
       "208      Mount Isa    -20.73     139.49        102.2        10   \n",
       "\n",
       "     Temperature Min  Temperature Max  Wind Speed  Cloudines  Timezone  \\\n",
       "511             73.0             73.0        5.19        100    -21600   \n",
       "377             93.2             93.2       14.99         99     37800   \n",
       "152            109.4            109.4       12.75         37     34200   \n",
       "144            105.8            105.8       16.11          0     34200   \n",
       "208            102.2            102.2       12.75          3     36000   \n",
       "\n",
       "      Latitude Division  \n",
       "511       Tropic_Cancer  \n",
       "377  Southern_Temperate  \n",
       "152  Southern_Temperate  \n",
       "144  Southern_Temperate  \n",
       "208    Tropic_Capricorn  "
      ]
     },
     "execution_count": 122,
     "metadata": {},
     "output_type": "execute_result"
    }
   ],
   "source": [
    "# Sorting dataframe to check the hottest and coldest locations\n",
    "\n",
    "Humidity_sorted = weather_data.sort_values(by='Humidity', ascending=True)\n",
    "Humidity_sorted.head()"
   ]
  },
  {
   "cell_type": "markdown",
   "metadata": {},
   "source": [
    "#  Observable trends\n",
    "\n",
    "\n",
    "6) There is no correlation between temperature and humidity or cloudiness. However, the extreme hot places in the upper left section of the Temp vs. Humidity plot corresponds to places with humidity below 30%. \n",
    "\n",
    "7) 3 of the 5 stations with lower humidity % are in the top 5 of the hottest stations and they are located in Australia. As mentioned before, the dry conditions and high temperatures in Australia are causing the huge brush fires that have affected the environment (air quality and reduction of animal habitat for species like the koalas) and material loses, including the deathn of fire fighters this week.\n"
   ]
  }
 ],
 "metadata": {
  "kernelspec": {
   "display_name": "Python 3",
   "language": "python",
   "name": "python3"
  },
  "language_info": {
   "codemirror_mode": {
    "name": "ipython",
    "version": 3
   },
   "file_extension": ".py",
   "mimetype": "text/x-python",
   "name": "python",
   "nbconvert_exporter": "python",
   "pygments_lexer": "ipython3",
   "version": "3.7.3"
  }
 },
 "nbformat": 4,
 "nbformat_minor": 2
}
