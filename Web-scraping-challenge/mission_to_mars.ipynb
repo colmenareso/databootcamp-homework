{
 "cells": [
  {
   "cell_type": "code",
   "execution_count": 1,
   "metadata": {},
   "outputs": [],
   "source": [
    "# Setting the dependencies\n",
    "\n",
    "from splinter import Browser\n",
    "from bs4 import BeautifulSoup\n",
    "import pandas as pd\n",
    "import re\n",
    "import requests"
   ]
  },
  {
   "cell_type": "code",
   "execution_count": 2,
   "metadata": {},
   "outputs": [],
   "source": [
    "# Setting path to chromedriver.exe and initializing plinter (opening web browser window) (Windows 10)\n",
    "\n",
    "executable_path = {'executable_path': 'chromedriver.exe'}\n",
    "browser = Browser('chrome', **executable_path, headless=False)"
   ]
  },
  {
   "cell_type": "code",
   "execution_count": 3,
   "metadata": {},
   "outputs": [],
   "source": [
    "# Creating a dictionary to store the scraped data\n",
    "\n",
    "mars_data = {}"
   ]
  },
  {
   "cell_type": "markdown",
   "metadata": {},
   "source": [
    "<h3>NASA Mars News:"
   ]
  },
  {
   "cell_type": "code",
   "execution_count": 4,
   "metadata": {},
   "outputs": [],
   "source": [
    "# Providing first url to Mars news and opening site in splinter\n",
    "\n",
    "url = 'https://mars.nasa.gov/news/'\n",
    "browser.visit(url)"
   ]
  },
  {
   "cell_type": "code",
   "execution_count": 5,
   "metadata": {},
   "outputs": [],
   "source": [
    "# Opening Beautifulsoup\n",
    "\n",
    "html = browser.html\n",
    "soup = BeautifulSoup(html, 'html.parser')"
   ]
  },
  {
   "cell_type": "code",
   "execution_count": 6,
   "metadata": {},
   "outputs": [],
   "source": [
    "# Defining the html elements to scrap for the information\n",
    "\n",
    "item_list = soup.find('div', {'class': 'list_text'})"
   ]
  },
  {
   "cell_type": "code",
   "execution_count": 7,
   "metadata": {},
   "outputs": [
    {
     "data": {
      "text/plain": [
       "\"Nine Finalists Chosen in NASA's Mars 2020 Rover Naming Contest\""
      ]
     },
     "execution_count": 7,
     "metadata": {},
     "output_type": "execute_result"
    }
   ],
   "source": [
    "# Grabing most recent news headline\n",
    "\n",
    "news_title = item_list.find('div', {'class': 'content_title'}).text\n",
    "news_title   "
   ]
  },
  {
   "cell_type": "code",
   "execution_count": 8,
   "metadata": {},
   "outputs": [
    {
     "data": {
      "text/plain": [
       "\"Nine finalists have been chosen in the essay contest for K-12 students across U.S. to name NASA's next Mars rover. Now you can help by voting for your favorite. \""
      ]
     },
     "execution_count": 8,
     "metadata": {},
     "output_type": "execute_result"
    }
   ],
   "source": [
    "# Grabing the most recent news teaser text\n",
    "\n",
    "news_teaser = item_list.find('div', {'class': 'article_teaser_body'}).text\n",
    "news_teaser"
   ]
  },
  {
   "cell_type": "code",
   "execution_count": 9,
   "metadata": {},
   "outputs": [],
   "source": [
    "#Storing scraped data into the mars_data dictionary\n",
    "    \n",
    "mars_data[\"nasa_headline\"] = news_title\n",
    "mars_data[\"nasa_teaser\"] = news_teaser"
   ]
  },
  {
   "cell_type": "markdown",
   "metadata": {},
   "source": [
    "<h3>JPL Mars Space Images - Featured Image:"
   ]
  },
  {
   "cell_type": "code",
   "execution_count": 10,
   "metadata": {},
   "outputs": [],
   "source": [
    "# Providing second url to Mars Space Images and opening site in splinter\n",
    "\n",
    "url2 = 'https://www.jpl.nasa.gov/spaceimages/?search=&category=Mars'\n",
    "browser.visit(url2)"
   ]
  },
  {
   "cell_type": "code",
   "execution_count": 11,
   "metadata": {},
   "outputs": [],
   "source": [
    "# Opening Beautifulsoup\n",
    "\n",
    "html2 = browser.html\n",
    "soup2 = BeautifulSoup(html2, 'html.parser')"
   ]
  },
  {
   "cell_type": "code",
   "execution_count": 12,
   "metadata": {},
   "outputs": [],
   "source": [
    "# Defining the html elements to scrap for the information\n",
    "\n",
    "image = soup2.find('a', {'class': 'button fancybox'})"
   ]
  },
  {
   "cell_type": "code",
   "execution_count": 14,
   "metadata": {},
   "outputs": [
    {
     "data": {
      "text/plain": [
       "'jpl.nasa.gov/spaceimages/images/mediumsize/PIA22574_ip.jpg'"
      ]
     },
     "execution_count": 14,
     "metadata": {},
     "output_type": "execute_result"
    }
   ],
   "source": [
    "# Checking image attributes\n",
    "\n",
    "image.attrs\n",
    "featured_image_url = 'jpl.nasa.gov'+image.attrs['data-fancybox-href']\n",
    "featured_image_url"
   ]
  },
  {
   "cell_type": "code",
   "execution_count": 15,
   "metadata": {},
   "outputs": [
    {
     "data": {
      "text/plain": [
       "'https://www.jpl.nasa.gov/spaceimages/images/mediumsize/PIA22574_ip.jpg'"
      ]
     },
     "execution_count": 15,
     "metadata": {},
     "output_type": "execute_result"
    }
   ],
   "source": [
    "# Storing the url in a variable \n",
    "\n",
    "\n",
    "image_path = f'https://www.{featured_image_url}'\n",
    "image_path"
   ]
  },
  {
   "cell_type": "code",
   "execution_count": 16,
   "metadata": {},
   "outputs": [
    {
     "data": {
      "text/plain": [
       "'https://www.jpl.nasa.gov/spaceimages/images/mediumsize/PIA22574_ip.jpg'"
      ]
     },
     "execution_count": 16,
     "metadata": {},
     "output_type": "execute_result"
    }
   ],
   "source": [
    "#Storing scraped data into the mars_data dictionary\n",
    "\n",
    "mars_data[\"feature_image_src\"] = image_path\n",
    "mars_data[\"feature_image_src\"]"
   ]
  },
  {
   "cell_type": "markdown",
   "metadata": {},
   "source": [
    "# Mars Weather:"
   ]
  },
  {
   "cell_type": "code",
   "execution_count": 17,
   "metadata": {},
   "outputs": [],
   "source": [
    "# Providing third url to Mars Weather and opening requests to the url\n",
    "\n",
    "url_3='https://twitter.com/marswxreport?lang=en'\n",
    "response=requests.get(url_3)"
   ]
  },
  {
   "cell_type": "code",
   "execution_count": 18,
   "metadata": {
    "scrolled": false
   },
   "outputs": [],
   "source": [
    "# Opening Beautifulsoup and showing html to check the tag for the weather update\n",
    "\n",
    "html3 = browser.html\n",
    "soup3 = BeautifulSoup(html3, 'html.parser')\n",
    "#print(soup.prettify())"
   ]
  },
  {
   "cell_type": "code",
   "execution_count": 19,
   "metadata": {},
   "outputs": [],
   "source": [
    "# Set up parser\n",
    "\n",
    "soup=BeautifulSoup(response.text, 'lxml')"
   ]
  },
  {
   "cell_type": "code",
   "execution_count": 20,
   "metadata": {},
   "outputs": [],
   "source": [
    "# Finding all tweets for Mars weather\n",
    "\n",
    "mars_weather=soup.find_all('div', class_='js-tweet-text-container')"
   ]
  },
  {
   "cell_type": "code",
   "execution_count": 21,
   "metadata": {},
   "outputs": [
    {
     "data": {
      "text/plain": [
       "['\\nInSight sol 419 (2020-01-31) low -96.1ºC (-141.0ºF) high -12.5ºC (9.5ºF)\\nwinds from the SW at 5.1 m/s (11.4 mph) gusting to 20.2 m/s (45.2 mph)\\npressure at 6.30 hPapic.twitter.com/9CchnlLc0h\\n',\n",
       " '\\nThe seasonal cycle of Mars’ atmospheric pressure explained https://phys.org/news/2020-01-mystery-mars-pole.html\\xa0…pic.twitter.com/bQMlALLa7Y\\n',\n",
       " '\\nThe seasonal cycle of Mars’ atmospheric pressure explained https://phys.org/news/2020-01-mystery-mars-pole.html\\xa0…pic.twitter.com/bQMlALLa7Y\\n',\n",
       " '\\nInSight sol 418 (2020-01-30) low -94.1ºC (-137.3ºF) high -15.6ºC (4.0ºF)\\nwinds from the SSW at 5.2 m/s (11.5 mph) gusting to 19.2 m/s (42.9 mph)\\npressure at 6.30 hPapic.twitter.com/t5iyYC2slx\\n',\n",
       " '\\nInSight sol 417 (2020-01-28) low -94.0ºC (-137.3ºF) high -15.3ºC (4.4ºF)\\nwinds from the W at 4.6 m/s (10.2 mph) gusting to 17.3 m/s (38.7 mph)\\npressure at 6.30 hPapic.twitter.com/c21AvT6pVM\\n',\n",
       " \"\\nThis is the most detailed view of the Sun’s turbulent surface, from the @NSF's Daniel K. Inouye Solar Telescope. Each of these convection, the source of space weather, is the size of Texas. http://www.hawaii.edu/news/2020/01/29/first-light-inouye-solar-telescope/\\xa0…pic.twitter.com/h8CN6V9hwU\\n\",\n",
       " '\\nInSight sol 416 (2020-01-27) low -93.9ºC (-137.1ºF) high -14.5ºC (5.9ºF)\\nwinds from the S at 4.7 m/s (10.4 mph) gusting to 20.2 m/s (45.1 mph)\\npressure at 6.30 hPapic.twitter.com/6B0QCzZNWE\\n',\n",
       " '\\nInSight sol 415 (2020-01-27) low -95.1ºC (-139.1ºF) high -14.3ºC (6.3ºF)\\nwinds from the W at 5.1 m/s (11.4 mph) gusting to 20.7 m/s (46.4 mph)\\npressure at 6.30 hPapic.twitter.com/CSMtbBHsFe\\n',\n",
       " '\\nInSight sol 414 (2020-01-25) low -95.7ºC (-140.2ºF) high -15.9ºC (3.4ºF)\\nwinds from the W at 4.8 m/s (10.8 mph) gusting to 21.3 m/s (47.6 mph)\\npressure at 6.30 hPa\\n',\n",
       " '\\nInSight sol 413 (2020-01-25) low -86.8ºC (-124.2ºF) high -16.0ºC (3.3ºF)\\nwinds from the W at 5.6 m/s (12.4 mph) gusting to 19.8 m/s (44.2 mph)\\npressure at 6.30 hPa\\n',\n",
       " '\\nInSight sol 412 (2020-01-23) low -96.9ºC (-142.4ºF) high -14.5ºC (5.9ºF)\\nwinds from the S at 5.4 m/s (12.0 mph) gusting to 19.7 m/s (44.0 mph)\\npressure at 6.30 hPa\\n',\n",
       " '\\nInSight sol 411 (2020-01-22) low -96.4ºC (-141.4ºF) high -16.7ºC (1.9ºF)\\nwinds from the S at 5.6 m/s (12.6 mph) gusting to 22.7 m/s (50.8 mph)\\npressure at 6.30 hPapic.twitter.com/nogRqYba3I\\n',\n",
       " '\\nInSight sol 410 (2020-01-21) low -97.5ºC (-143.5ºF) high -12.5ºC (9.5ºF)\\nwinds from the S at 5.0 m/s (11.2 mph) gusting to 19.7 m/s (44.0 mph)\\npressure at 6.30 hPa\\n',\n",
       " '\\nResearchers have created the first map of wind circulation in the upper atmosphere of a planet besides Earth, using data from NASA’s @MAVEN2Mars spacecraft. These visualizations show MAVEN measuring the Martian upper level wind direction and magnitude. https://svs.gsfc.nasa.gov/4755\\xa0pic.twitter.com/1vzM1AezEg\\n',\n",
       " '\\nAferin https://twitter.com/doug_ellison/status/1219805146747555840\\xa0…\\n',\n",
       " '\\nInSight sol 409 (2020-01-20) low -98.6ºC (-145.6ºF) high -15.4ºC (4.3ºF)\\nwinds from the S at 5.3 m/s (11.9 mph) gusting to 21.0 m/s (46.9 mph)\\npressure at 6.30 hPapic.twitter.com/uVxUQSsK2N\\n',\n",
       " '\\nInSight sol 408 (2020-01-19) low -97.1ºC (-142.7ºF) high -16.0ºC (3.1ºF)\\nwinds from the SSW at 5.2 m/s (11.6 mph) gusting to 20.7 m/s (46.3 mph)\\npressure at 6.40 hPapic.twitter.com/tIqoEyK2Uk\\n',\n",
       " '\\nInSight sol 407 (2020-01-18) low -99.5ºC (-147.1ºF) high -16.5ºC (2.4ºF)\\nwinds from the SSW at 4.8 m/s (10.6 mph) gusting to 22.2 m/s (49.8 mph)\\npressure at 6.40 hPapic.twitter.com/N6VqMznAhP\\n',\n",
       " '\\nInSight sol 406 (2020-01-17) low -100.0ºC (-148.0ºF) high -17.1ºC (1.2ºF)\\nwinds from the SSE at 5.3 m/s (11.8 mph) gusting to 20.7 m/s (46.4 mph)\\npressure at 6.40 hPapic.twitter.com/Ws6W7Cf73m\\n',\n",
       " '\\nIf Jacobie wins the contest, he and his family will get to go watch the Mars rover launch from Cape Canaveral this summer! \\n\\nH/T @rtphokiehttps://10.wsls.com/38iijbf\\xa0\\n']"
      ]
     },
     "execution_count": 21,
     "metadata": {},
     "output_type": "execute_result"
    }
   ],
   "source": [
    "# Opening an empty list to store the Mars weather and appending by looping through the Mars weather updates\n",
    "\n",
    "weather_updates = []\n",
    "for weather in mars_weather:\n",
    "    update = weather.text\n",
    "    weather_updates.append(update)\n",
    "    \n",
    "weather_updates"
   ]
  },
  {
   "cell_type": "code",
   "execution_count": 22,
   "metadata": {},
   "outputs": [],
   "source": [
    "# Storing insights into a variable (these ar ethe text with weather reports)\n",
    "\n",
    "weather_report = [s for s in weather_updates if \"InSight\" in s]"
   ]
  },
  {
   "cell_type": "code",
   "execution_count": 23,
   "metadata": {},
   "outputs": [
    {
     "data": {
      "text/plain": [
       "'\\nInSight sol 419 (2020-01-31) low -96.1ºC (-141.0ºF) high -12.5ºC (9.5ºF)\\nwinds from the SW at 5.1 m/s (11.4 mph) gusting to 20.2 m/s (45.2 mph)\\npressure at 6.30 hPapic.twitter.com/9CchnlLc0h\\n'"
      ]
     },
     "execution_count": 23,
     "metadata": {},
     "output_type": "execute_result"
    }
   ],
   "source": [
    "# Checking the first record of the array\n",
    "\n",
    "mars_weather = weather_report[0]\n",
    "mars_weather"
   ]
  },
  {
   "cell_type": "code",
   "execution_count": 24,
   "metadata": {},
   "outputs": [
    {
     "name": "stdout",
     "output_type": "stream",
     "text": [
      " InSight sol 419 (2020-01-31) low -96.1ºC (-141.0ºF) high -12.5ºC (9.5ºF) winds from the SW at 5.1 m/s (11.4 mph) gusting to 20.2 m/s (45.2 mph) pressure at 6.30 hPapic.twitter.com/9CchnlLc0h \n"
     ]
    }
   ],
   "source": [
    "# Cleaning text\n",
    "\n",
    "mars_weather = mars_weather.replace('\\n',' ')\n",
    "print(mars_weather)"
   ]
  },
  {
   "cell_type": "code",
   "execution_count": 25,
   "metadata": {},
   "outputs": [
    {
     "data": {
      "text/plain": [
       "' InSight sol 419 (2020-01-31) low -96.1ºC (-141.0ºF) high -12.5ºC (9.5ºF) winds from the SW at 5.1 m/s (11.4 mph) gusting to 20.2 m/s (45.2 mph) pressure at 6.30 hPa'"
      ]
     },
     "execution_count": 25,
     "metadata": {},
     "output_type": "execute_result"
    }
   ],
   "source": [
    "# Cleaning text\n",
    "\n",
    "mars_weather = mars_weather.split('pic.twitter')[0]\n",
    "mars_weather"
   ]
  },
  {
   "cell_type": "code",
   "execution_count": 26,
   "metadata": {},
   "outputs": [
    {
     "data": {
      "text/plain": [
       "' InSight sol 419 (2020-01-31) low -96.1ºC (-141.0ºF) high -12.5ºC (9.5ºF) winds from the SW at 5.1 m/s (11.4 mph) gusting to 20.2 m/s (45.2 mph) pressure at 6.30 hPa'"
      ]
     },
     "execution_count": 26,
     "metadata": {},
     "output_type": "execute_result"
    }
   ],
   "source": [
    "#Storing scraped data into the mars_data dictionary\n",
    "\n",
    "mars_data[\"weather_summary\"] = mars_weather\n",
    "mars_data[\"weather_summary\"]"
   ]
  },
  {
   "cell_type": "markdown",
   "metadata": {},
   "source": [
    "<h3>Mars Facts:"
   ]
  },
  {
   "cell_type": "code",
   "execution_count": 27,
   "metadata": {},
   "outputs": [],
   "source": [
    "# Providing fourth url to Mars Facts and opening site in splinter\n",
    "\n",
    "url4= 'https://space-facts.com/mars/'\n",
    "browser.visit(url4)"
   ]
  },
  {
   "cell_type": "code",
   "execution_count": 28,
   "metadata": {},
   "outputs": [],
   "source": [
    "# Opening Beautifulsoup\n",
    "\n",
    "html4 = browser.html\n",
    "soup4 = BeautifulSoup(html4, 'html.parser')"
   ]
  },
  {
   "cell_type": "code",
   "execution_count": 29,
   "metadata": {},
   "outputs": [],
   "source": [
    "# Defining the html elements to scrap for the information (table)\n",
    "\n",
    "table = soup4.find('tbody')"
   ]
  },
  {
   "cell_type": "code",
   "execution_count": 30,
   "metadata": {},
   "outputs": [],
   "source": [
    "# Opening an empty list to store the Mars facts and appending by looping through the Mars facts \n",
    "\n",
    "mars_facts = []\n",
    "\n",
    "for fact in table:\n",
    "    facts = {}\n",
    "    facts['fact'] = fact.find('td', {'class':'column-1'}).text\n",
    "    facts['measurement'] = fact.find('td', {'class':'column-2'}).text\n",
    "    mars_facts.append(facts)\n",
    "    "
   ]
  },
  {
   "cell_type": "code",
   "execution_count": 31,
   "metadata": {},
   "outputs": [
    {
     "data": {
      "text/plain": [
       "[{'fact': 'Equatorial Diameter:', 'measurement': '6,792 km'},\n",
       " {'fact': 'Polar Diameter:', 'measurement': '6,752 km'},\n",
       " {'fact': 'Mass:', 'measurement': '6.39 × 10^23 kg (0.11 Earths)'},\n",
       " {'fact': 'Moons:', 'measurement': '2 (Phobos & Deimos)'},\n",
       " {'fact': 'Orbit Distance:', 'measurement': '227,943,824 km (1.38 AU)'},\n",
       " {'fact': 'Orbit Period:', 'measurement': '687 days (1.9 years)'},\n",
       " {'fact': 'Surface Temperature: ', 'measurement': '-87 to -5 °C'},\n",
       " {'fact': 'First Record:', 'measurement': '2nd millennium BC'},\n",
       " {'fact': 'Recorded By:', 'measurement': 'Egyptian astronomers'}]"
      ]
     },
     "execution_count": 31,
     "metadata": {},
     "output_type": "execute_result"
    }
   ],
   "source": [
    "# Showing scrapped data\n",
    "\n",
    "mars_facts"
   ]
  },
  {
   "cell_type": "code",
   "execution_count": 32,
   "metadata": {},
   "outputs": [
    {
     "data": {
      "text/html": [
       "<div>\n",
       "<style scoped>\n",
       "    .dataframe tbody tr th:only-of-type {\n",
       "        vertical-align: middle;\n",
       "    }\n",
       "\n",
       "    .dataframe tbody tr th {\n",
       "        vertical-align: top;\n",
       "    }\n",
       "\n",
       "    .dataframe thead th {\n",
       "        text-align: right;\n",
       "    }\n",
       "</style>\n",
       "<table border=\"1\" class=\"dataframe\">\n",
       "  <thead>\n",
       "    <tr style=\"text-align: right;\">\n",
       "      <th></th>\n",
       "      <th>fact</th>\n",
       "      <th>measurement</th>\n",
       "    </tr>\n",
       "  </thead>\n",
       "  <tbody>\n",
       "    <tr>\n",
       "      <th>0</th>\n",
       "      <td>Equatorial Diameter:</td>\n",
       "      <td>6,792 km</td>\n",
       "    </tr>\n",
       "    <tr>\n",
       "      <th>1</th>\n",
       "      <td>Polar Diameter:</td>\n",
       "      <td>6,752 km</td>\n",
       "    </tr>\n",
       "    <tr>\n",
       "      <th>2</th>\n",
       "      <td>Mass:</td>\n",
       "      <td>6.39 × 10^23 kg (0.11 Earths)</td>\n",
       "    </tr>\n",
       "    <tr>\n",
       "      <th>3</th>\n",
       "      <td>Moons:</td>\n",
       "      <td>2 (Phobos &amp; Deimos)</td>\n",
       "    </tr>\n",
       "    <tr>\n",
       "      <th>4</th>\n",
       "      <td>Orbit Distance:</td>\n",
       "      <td>227,943,824 km (1.38 AU)</td>\n",
       "    </tr>\n",
       "    <tr>\n",
       "      <th>5</th>\n",
       "      <td>Orbit Period:</td>\n",
       "      <td>687 days (1.9 years)</td>\n",
       "    </tr>\n",
       "    <tr>\n",
       "      <th>6</th>\n",
       "      <td>Surface Temperature:</td>\n",
       "      <td>-87 to -5 °C</td>\n",
       "    </tr>\n",
       "    <tr>\n",
       "      <th>7</th>\n",
       "      <td>First Record:</td>\n",
       "      <td>2nd millennium BC</td>\n",
       "    </tr>\n",
       "    <tr>\n",
       "      <th>8</th>\n",
       "      <td>Recorded By:</td>\n",
       "      <td>Egyptian astronomers</td>\n",
       "    </tr>\n",
       "  </tbody>\n",
       "</table>\n",
       "</div>"
      ],
      "text/plain": [
       "                    fact                    measurement\n",
       "0   Equatorial Diameter:                       6,792 km\n",
       "1        Polar Diameter:                       6,752 km\n",
       "2                  Mass:  6.39 × 10^23 kg (0.11 Earths)\n",
       "3                 Moons:            2 (Phobos & Deimos)\n",
       "4        Orbit Distance:       227,943,824 km (1.38 AU)\n",
       "5          Orbit Period:           687 days (1.9 years)\n",
       "6  Surface Temperature:                    -87 to -5 °C\n",
       "7          First Record:              2nd millennium BC\n",
       "8           Recorded By:           Egyptian astronomers"
      ]
     },
     "execution_count": 32,
     "metadata": {},
     "output_type": "execute_result"
    }
   ],
   "source": [
    "# Creating a dataframe to store the facts\n",
    "\n",
    "mars_facts = pd.DataFrame(mars_facts)\n",
    "mars_facts"
   ]
  },
  {
   "cell_type": "code",
   "execution_count": 33,
   "metadata": {},
   "outputs": [
    {
     "data": {
      "text/plain": [
       "'<table border=\"1\" class=\"dataframe\">\\n  <tbody>\\n    <tr>\\n      <td>Equatorial Diameter:</td>\\n      <td>6,792 km</td>\\n    </tr>\\n    <tr>\\n      <td>Polar Diameter:</td>\\n      <td>6,752 km</td>\\n    </tr>\\n    <tr>\\n      <td>Mass:</td>\\n      <td>6.39 × 10^23 kg (0.11 Earths)</td>\\n    </tr>\\n    <tr>\\n      <td>Moons:</td>\\n      <td>2 (Phobos &amp; Deimos)</td>\\n    </tr>\\n    <tr>\\n      <td>Orbit Distance:</td>\\n      <td>227,943,824 km (1.38 AU)</td>\\n    </tr>\\n    <tr>\\n      <td>Orbit Period:</td>\\n      <td>687 days (1.9 years)</td>\\n    </tr>\\n    <tr>\\n      <td>Surface Temperature:</td>\\n      <td>-87 to -5 °C</td>\\n    </tr>\\n    <tr>\\n      <td>First Record:</td>\\n      <td>2nd millennium BC</td>\\n    </tr>\\n    <tr>\\n      <td>Recorded By:</td>\\n      <td>Egyptian astronomers</td>\\n    </tr>\\n  </tbody>\\n</table>'"
      ]
     },
     "execution_count": 33,
     "metadata": {},
     "output_type": "execute_result"
    }
   ],
   "source": [
    "#Storing scraped data into the mars_data dictionary\n",
    "\n",
    "mars_facts_html = mars_facts.to_html(header=False, index=False)\n",
    "mars_data[\"fact_table\"] = mars_facts_html\n",
    "mars_data[\"fact_table\"]"
   ]
  },
  {
   "cell_type": "markdown",
   "metadata": {},
   "source": [
    "<h3>Mars Hemispheres:"
   ]
  },
  {
   "cell_type": "code",
   "execution_count": 34,
   "metadata": {},
   "outputs": [],
   "source": [
    "# Providing the url's for Mars hemispheres and opening sites in splinter\n",
    "\n",
    "urls = ['https://astrogeology.usgs.gov/search/map/Mars/Viking/cerberus_enhanced', \n",
    "               'https://astrogeology.usgs.gov/search/map/Mars/Viking/schiaparelli_enhanced', \n",
    "               'https://astrogeology.usgs.gov/search/map/Mars/Viking/syrtis_major_enhanced', \n",
    "               'https://astrogeology.usgs.gov/search/map/Mars/Viking/valles_marineris_enhanced']"
   ]
  },
  {
   "cell_type": "code",
   "execution_count": 35,
   "metadata": {},
   "outputs": [],
   "source": [
    "# Opening an empty list to store the hemisphere information and appending by looping through the site \n",
    "\n",
    "mars_hemispheres = []\n",
    "\n",
    "for url in urls:\n",
    "    browser.visit(url)\n",
    "    html = browser.html\n",
    "    soup = BeautifulSoup(html, 'html.parser')\n",
    "    hemispheres = {}\n",
    "    hemispheres['img_url'] = soup.find('a',{'target':'_blank'}).attrs['href']\n",
    "    hemispheres['title'] = soup.find('h2', {'class':'title'}).text.split(' Enhanced')[0]\n",
    "    mars_hemispheres.append(hemispheres)"
   ]
  },
  {
   "cell_type": "code",
   "execution_count": 36,
   "metadata": {},
   "outputs": [
    {
     "data": {
      "text/plain": [
       "[{'img_url': 'http://astropedia.astrogeology.usgs.gov/download/Mars/Viking/cerberus_enhanced.tif/full.jpg',\n",
       "  'title': 'Cerberus Hemisphere'},\n",
       " {'img_url': 'http://astropedia.astrogeology.usgs.gov/download/Mars/Viking/schiaparelli_enhanced.tif/full.jpg',\n",
       "  'title': 'Schiaparelli Hemisphere'},\n",
       " {'img_url': 'http://astropedia.astrogeology.usgs.gov/download/Mars/Viking/syrtis_major_enhanced.tif/full.jpg',\n",
       "  'title': 'Syrtis Major Hemisphere'},\n",
       " {'img_url': 'http://astropedia.astrogeology.usgs.gov/download/Mars/Viking/valles_marineris_enhanced.tif/full.jpg',\n",
       "  'title': 'Valles Marineris Hemisphere'}]"
      ]
     },
     "execution_count": 36,
     "metadata": {},
     "output_type": "execute_result"
    }
   ],
   "source": [
    "# Showing scrapped data\n",
    "\n",
    "mars_hemispheres"
   ]
  },
  {
   "cell_type": "code",
   "execution_count": 37,
   "metadata": {},
   "outputs": [
    {
     "data": {
      "text/html": [
       "<div>\n",
       "<style scoped>\n",
       "    .dataframe tbody tr th:only-of-type {\n",
       "        vertical-align: middle;\n",
       "    }\n",
       "\n",
       "    .dataframe tbody tr th {\n",
       "        vertical-align: top;\n",
       "    }\n",
       "\n",
       "    .dataframe thead th {\n",
       "        text-align: right;\n",
       "    }\n",
       "</style>\n",
       "<table border=\"1\" class=\"dataframe\">\n",
       "  <thead>\n",
       "    <tr style=\"text-align: right;\">\n",
       "      <th></th>\n",
       "      <th>img_url</th>\n",
       "      <th>title</th>\n",
       "    </tr>\n",
       "  </thead>\n",
       "  <tbody>\n",
       "    <tr>\n",
       "      <th>0</th>\n",
       "      <td>http://astropedia.astrogeology.usgs.gov/downlo...</td>\n",
       "      <td>Cerberus Hemisphere</td>\n",
       "    </tr>\n",
       "    <tr>\n",
       "      <th>1</th>\n",
       "      <td>http://astropedia.astrogeology.usgs.gov/downlo...</td>\n",
       "      <td>Schiaparelli Hemisphere</td>\n",
       "    </tr>\n",
       "    <tr>\n",
       "      <th>2</th>\n",
       "      <td>http://astropedia.astrogeology.usgs.gov/downlo...</td>\n",
       "      <td>Syrtis Major Hemisphere</td>\n",
       "    </tr>\n",
       "    <tr>\n",
       "      <th>3</th>\n",
       "      <td>http://astropedia.astrogeology.usgs.gov/downlo...</td>\n",
       "      <td>Valles Marineris Hemisphere</td>\n",
       "    </tr>\n",
       "  </tbody>\n",
       "</table>\n",
       "</div>"
      ],
      "text/plain": [
       "                                             img_url  \\\n",
       "0  http://astropedia.astrogeology.usgs.gov/downlo...   \n",
       "1  http://astropedia.astrogeology.usgs.gov/downlo...   \n",
       "2  http://astropedia.astrogeology.usgs.gov/downlo...   \n",
       "3  http://astropedia.astrogeology.usgs.gov/downlo...   \n",
       "\n",
       "                         title  \n",
       "0          Cerberus Hemisphere  \n",
       "1      Schiaparelli Hemisphere  \n",
       "2      Syrtis Major Hemisphere  \n",
       "3  Valles Marineris Hemisphere  "
      ]
     },
     "execution_count": 37,
     "metadata": {},
     "output_type": "execute_result"
    }
   ],
   "source": [
    "# Creating dataframe to contain the results\n",
    "\n",
    "df_hemispheres = pd.DataFrame(mars_hemispheres)\n",
    "df_hemispheres"
   ]
  },
  {
   "cell_type": "code",
   "execution_count": 38,
   "metadata": {},
   "outputs": [
    {
     "data": {
      "text/plain": [
       "Index(['img_url', 'title'], dtype='object')"
      ]
     },
     "execution_count": 38,
     "metadata": {},
     "output_type": "execute_result"
    }
   ],
   "source": [
    "# Checking variable names\n",
    "\n",
    "df_hemispheres.columns"
   ]
  },
  {
   "cell_type": "code",
   "execution_count": 39,
   "metadata": {},
   "outputs": [
    {
     "data": {
      "text/html": [
       "<div>\n",
       "<style scoped>\n",
       "    .dataframe tbody tr th:only-of-type {\n",
       "        vertical-align: middle;\n",
       "    }\n",
       "\n",
       "    .dataframe tbody tr th {\n",
       "        vertical-align: top;\n",
       "    }\n",
       "\n",
       "    .dataframe thead th {\n",
       "        text-align: right;\n",
       "    }\n",
       "</style>\n",
       "<table border=\"1\" class=\"dataframe\">\n",
       "  <thead>\n",
       "    <tr style=\"text-align: right;\">\n",
       "      <th></th>\n",
       "      <th>title</th>\n",
       "      <th>img_url</th>\n",
       "    </tr>\n",
       "  </thead>\n",
       "  <tbody>\n",
       "    <tr>\n",
       "      <th>0</th>\n",
       "      <td>Cerberus Hemisphere</td>\n",
       "      <td>http://astropedia.astrogeology.usgs.gov/downlo...</td>\n",
       "    </tr>\n",
       "    <tr>\n",
       "      <th>1</th>\n",
       "      <td>Schiaparelli Hemisphere</td>\n",
       "      <td>http://astropedia.astrogeology.usgs.gov/downlo...</td>\n",
       "    </tr>\n",
       "    <tr>\n",
       "      <th>2</th>\n",
       "      <td>Syrtis Major Hemisphere</td>\n",
       "      <td>http://astropedia.astrogeology.usgs.gov/downlo...</td>\n",
       "    </tr>\n",
       "    <tr>\n",
       "      <th>3</th>\n",
       "      <td>Valles Marineris Hemisphere</td>\n",
       "      <td>http://astropedia.astrogeology.usgs.gov/downlo...</td>\n",
       "    </tr>\n",
       "  </tbody>\n",
       "</table>\n",
       "</div>"
      ],
      "text/plain": [
       "                         title  \\\n",
       "0          Cerberus Hemisphere   \n",
       "1      Schiaparelli Hemisphere   \n",
       "2      Syrtis Major Hemisphere   \n",
       "3  Valles Marineris Hemisphere   \n",
       "\n",
       "                                             img_url  \n",
       "0  http://astropedia.astrogeology.usgs.gov/downlo...  \n",
       "1  http://astropedia.astrogeology.usgs.gov/downlo...  \n",
       "2  http://astropedia.astrogeology.usgs.gov/downlo...  \n",
       "3  http://astropedia.astrogeology.usgs.gov/downlo...  "
      ]
     },
     "execution_count": 39,
     "metadata": {},
     "output_type": "execute_result"
    }
   ],
   "source": [
    "# Defining column labels for the the dataframe\n",
    "\n",
    "df_hemispheres = df_hemispheres[['title','img_url']]\n",
    "df_hemispheres"
   ]
  },
  {
   "cell_type": "code",
   "execution_count": 40,
   "metadata": {},
   "outputs": [
    {
     "data": {
      "text/plain": [
       "[{'img_url': 'http://astropedia.astrogeology.usgs.gov/download/Mars/Viking/cerberus_enhanced.tif/full.jpg',\n",
       "  'title': 'Cerberus Hemisphere'},\n",
       " {'img_url': 'http://astropedia.astrogeology.usgs.gov/download/Mars/Viking/schiaparelli_enhanced.tif/full.jpg',\n",
       "  'title': 'Schiaparelli Hemisphere'},\n",
       " {'img_url': 'http://astropedia.astrogeology.usgs.gov/download/Mars/Viking/syrtis_major_enhanced.tif/full.jpg',\n",
       "  'title': 'Syrtis Major Hemisphere'},\n",
       " {'img_url': 'http://astropedia.astrogeology.usgs.gov/download/Mars/Viking/valles_marineris_enhanced.tif/full.jpg',\n",
       "  'title': 'Valles Marineris Hemisphere'}]"
      ]
     },
     "execution_count": 40,
     "metadata": {},
     "output_type": "execute_result"
    }
   ],
   "source": [
    "#Storing scraped data into the mars_data dictionary\n",
    "\n",
    "mars_data[\"hemisphere_imgs\"] = mars_hemispheres\n",
    "mars_data[\"hemisphere_imgs\"]"
   ]
  },
  {
   "cell_type": "code",
   "execution_count": 41,
   "metadata": {},
   "outputs": [],
   "source": [
    "# Closing browsing session\n",
    "\n",
    "browser.quit()"
   ]
  },
  {
   "cell_type": "code",
   "execution_count": 42,
   "metadata": {
    "scrolled": true
   },
   "outputs": [
    {
     "name": "stdout",
     "output_type": "stream",
     "text": [
      "{'nasa_headline': \"Nine Finalists Chosen in NASA's Mars 2020 Rover Naming Contest\", 'nasa_teaser': \"Nine finalists have been chosen in the essay contest for K-12 students across U.S. to name NASA's next Mars rover. Now you can help by voting for your favorite. \", 'feature_image_src': 'https://www.jpl.nasa.gov/spaceimages/images/mediumsize/PIA22574_ip.jpg', 'weather_summary': ' InSight sol 419 (2020-01-31) low -96.1ºC (-141.0ºF) high -12.5ºC (9.5ºF) winds from the SW at 5.1 m/s (11.4 mph) gusting to 20.2 m/s (45.2 mph) pressure at 6.30 hPa', 'fact_table': '<table border=\"1\" class=\"dataframe\">\\n  <tbody>\\n    <tr>\\n      <td>Equatorial Diameter:</td>\\n      <td>6,792 km</td>\\n    </tr>\\n    <tr>\\n      <td>Polar Diameter:</td>\\n      <td>6,752 km</td>\\n    </tr>\\n    <tr>\\n      <td>Mass:</td>\\n      <td>6.39 × 10^23 kg (0.11 Earths)</td>\\n    </tr>\\n    <tr>\\n      <td>Moons:</td>\\n      <td>2 (Phobos &amp; Deimos)</td>\\n    </tr>\\n    <tr>\\n      <td>Orbit Distance:</td>\\n      <td>227,943,824 km (1.38 AU)</td>\\n    </tr>\\n    <tr>\\n      <td>Orbit Period:</td>\\n      <td>687 days (1.9 years)</td>\\n    </tr>\\n    <tr>\\n      <td>Surface Temperature:</td>\\n      <td>-87 to -5 °C</td>\\n    </tr>\\n    <tr>\\n      <td>First Record:</td>\\n      <td>2nd millennium BC</td>\\n    </tr>\\n    <tr>\\n      <td>Recorded By:</td>\\n      <td>Egyptian astronomers</td>\\n    </tr>\\n  </tbody>\\n</table>', 'hemisphere_imgs': [{'img_url': 'http://astropedia.astrogeology.usgs.gov/download/Mars/Viking/cerberus_enhanced.tif/full.jpg', 'title': 'Cerberus Hemisphere'}, {'img_url': 'http://astropedia.astrogeology.usgs.gov/download/Mars/Viking/schiaparelli_enhanced.tif/full.jpg', 'title': 'Schiaparelli Hemisphere'}, {'img_url': 'http://astropedia.astrogeology.usgs.gov/download/Mars/Viking/syrtis_major_enhanced.tif/full.jpg', 'title': 'Syrtis Major Hemisphere'}, {'img_url': 'http://astropedia.astrogeology.usgs.gov/download/Mars/Viking/valles_marineris_enhanced.tif/full.jpg', 'title': 'Valles Marineris Hemisphere'}]}\n"
     ]
    }
   ],
   "source": [
    "print(mars_data)"
   ]
  }
 ],
 "metadata": {
  "kernelspec": {
   "display_name": "Python 3",
   "language": "python",
   "name": "python3"
  },
  "language_info": {
   "codemirror_mode": {
    "name": "ipython",
    "version": 3
   },
   "file_extension": ".py",
   "mimetype": "text/x-python",
   "name": "python",
   "nbconvert_exporter": "python",
   "pygments_lexer": "ipython3",
   "version": "3.7.3"
  }
 },
 "nbformat": 4,
 "nbformat_minor": 4
}
